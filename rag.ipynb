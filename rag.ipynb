{
 "cells": [
  {
   "cell_type": "markdown",
   "metadata": {},
   "source": [
    "## Imports"
   ]
  },
  {
   "cell_type": "code",
   "execution_count": null,
   "metadata": {},
   "outputs": [],
   "source": [
    "!pip install farm-haystack transformers ollama\n",
    "!pip install torch torchvision torchaudio --index-url https://download.pytorch.org/whl/cpu\n",
    "!pip install sentence-transformers\n",
    "!pip install \"farm-haystack[inference]\""
   ]
  },
  {
   "cell_type": "code",
   "execution_count": 1,
   "metadata": {},
   "outputs": [
    {
     "name": "stderr",
     "output_type": "stream",
     "text": [
      "/opt/homebrew/Caskroom/miniforge/base/envs/rag/lib/python3.11/site-packages/tqdm/auto.py:21: TqdmWarning: IProgress not found. Please update jupyter and ipywidgets. See https://ipywidgets.readthedocs.io/en/stable/user_install.html\n",
      "  from .autonotebook import tqdm as notebook_tqdm\n"
     ]
    }
   ],
   "source": [
    "from haystack.document_stores import InMemoryDocumentStore\n",
    "from haystack.nodes import EmbeddingRetriever\n",
    "from haystack.schema import Document\n",
    "import ollama\n",
    "import os\n",
    "import pickle\n",
    "import pandas as pd"
   ]
  },
  {
   "cell_type": "code",
   "execution_count": 4,
   "metadata": {},
   "outputs": [],
   "source": [
    "CUR_LANG = \"es\"\n",
    "def EMBEDDINGS_PATH(lang: str):\n",
    "    return f\"embeddings_{CUR_LANG}.pkl\""
   ]
  },
  {
   "cell_type": "markdown",
   "metadata": {},
   "source": [
    "## Prepare key terms embeddings"
   ]
  },
  {
   "cell_type": "code",
   "execution_count": 5,
   "metadata": {},
   "outputs": [
    {
     "name": "stderr",
     "output_type": "stream",
     "text": [
      "Batches: 100%|██████████| 229/229 [00:03<00:00, 60.58it/s]cs/s]\n",
      "Documents Processed: 10000 docs [00:03, 2597.31 docs/s]         \n"
     ]
    }
   ],
   "source": [
    "if (os.path.exists(EMBEDDINGS_PATH(CUR_LANG))):\n",
    "    with open(EMBEDDINGS_PATH(CUR_LANG), 'rb') as f:\n",
    "        document_store = pickle.load(f)\n",
    "        retriever = EmbeddingRetriever(\n",
    "            document_store=document_store,\n",
    "            embedding_model=\"sentence-transformers/all-MiniLM-L6-v2\",\n",
    "            use_gpu=False \n",
    "        )\n",
    "else:\n",
    "    document_store = InMemoryDocumentStore(embedding_dim=384)\n",
    "    key_terms = pd.read_csv(\"terms.csv\")\n",
    "    documents = [Document(content=term[1][CUR_LANG], id=term[1][\"id\"]) for term in key_terms.iterrows()]\n",
    "    document_store.write_documents(documents)\n",
    "    retriever = EmbeddingRetriever(\n",
    "            document_store=document_store,\n",
    "            embedding_model=\"sentence-transformers/all-MiniLM-L6-v2\",\n",
    "            use_gpu=False \n",
    "        )\n",
    "    document_store.update_embeddings(retriever)\n",
    "    with open(EMBEDDINGS_PATH(CUR_LANG), 'wb') as f:\n",
    "        pickle.dump(document_store, f)"
   ]
  },
  {
   "cell_type": "markdown",
   "metadata": {},
   "source": [
    "## Prepare question embedding and question for Llama3.2"
   ]
  },
  {
   "cell_type": "code",
   "execution_count": 6,
   "metadata": {},
   "outputs": [
    {
     "name": "stderr",
     "output_type": "stream",
     "text": [
      "huggingface/tokenizers: The current process just got forked, after parallelism has already been used. Disabling parallelism to avoid deadlocks...\n",
      "To disable this warning, you can either:\n",
      "\t- Avoid using `tokenizers` before the fork if possible\n",
      "\t- Explicitly set the environment variable TOKENIZERS_PARALLELISM=(true | false)\n"
     ]
    }
   ],
   "source": [
    "def get_relevant_key_terms(question, top_k=10):\n",
    "    results = retriever.retrieve(query=question, top_k=top_k)\n",
    "    return {doc.content.replace('\"', '') : doc.id for doc in results}\n",
    "\n",
    "os.popen('ollama serve')\n",
    "client = ollama.Client()\n",
    "\n",
    "def ask_llama(question, relevant_key_terms):\n",
    "    prompt = f\"\"\"\n",
    "        Here is a search prompt by a user of the UN digital library:\n",
    "        Question: {question}\n",
    "        Here is a list of key terms. Each key term is in its own square brackets.\n",
    "        Key Terms: {relevant_key_terms}\n",
    "        Select the two key terms that are most relevant to the question.\n",
    "        Output only the selected key terms as they are presented to you: each key term within square brackets.\n",
    "        Separate each set of square brackets with a semi-colon and no spaces.\n",
    "        \n",
    "        \"\"\"\n",
    "\n",
    "    return client.chat(model=\"llama3.2\", messages=[{\"role\": \"user\", \"content\": prompt}])['message']['content']\n"
   ]
  },
  {
   "cell_type": "markdown",
   "metadata": {},
   "source": [
    "## Ask question"
   ]
  },
  {
   "cell_type": "code",
   "execution_count": 7,
   "metadata": {},
   "outputs": [
    {
     "name": "stderr",
     "output_type": "stream",
     "text": [
      "2025/01/08 15:54:11 routes.go:1259: INFO server config env=\"map[HTTPS_PROXY: HTTP_PROXY: NO_PROXY: OLLAMA_DEBUG:false OLLAMA_FLASH_ATTENTION:false OLLAMA_GPU_OVERHEAD:0 OLLAMA_HOST:http://127.0.0.1:11434 OLLAMA_KEEP_ALIVE:5m0s OLLAMA_KV_CACHE_TYPE: OLLAMA_LLM_LIBRARY: OLLAMA_LOAD_TIMEOUT:5m0s OLLAMA_MAX_LOADED_MODELS:0 OLLAMA_MAX_QUEUE:512 OLLAMA_MODELS:/Users/luke/.ollama/models OLLAMA_MULTIUSER_CACHE:false OLLAMA_NOHISTORY:false OLLAMA_NOPRUNE:false OLLAMA_NUM_PARALLEL:0 OLLAMA_ORIGINS:[http://localhost https://localhost http://localhost:* https://localhost:* http://127.0.0.1 https://127.0.0.1 http://127.0.0.1:* https://127.0.0.1:* http://0.0.0.0 https://0.0.0.0 http://0.0.0.0:* https://0.0.0.0:* app://* file://* tauri://* vscode-webview://*] OLLAMA_SCHED_SPREAD:false http_proxy: https_proxy: no_proxy:]\"\n",
      "time=2025-01-08T15:54:11.911+01:00 level=INFO source=images.go:757 msg=\"total blobs: 8\"\n",
      "time=2025-01-08T15:54:11.912+01:00 level=INFO source=images.go:764 msg=\"total unused blobs removed: 0\"\n",
      "time=2025-01-08T15:54:11.912+01:00 level=INFO source=routes.go:1310 msg=\"Listening on 127.0.0.1:11434 (version 0.5.4)\"\n",
      "time=2025-01-08T15:54:11.912+01:00 level=INFO source=routes.go:1339 msg=\"Dynamic LLM libraries\" runners=[metal]\n",
      "time=2025-01-08T15:54:11.962+01:00 level=INFO source=types.go:131 msg=\"inference compute\" id=0 library=metal variant=\"\" compute=\"\" driver=0.0 name=\"\" total=\"10.7 GiB\" available=\"10.7 GiB\"\n"
     ]
    }
   ],
   "source": [
    "#question = \"I would like to know more about the impact of world war 1 on the economy of Germany.\"\n",
    "question = \"world war II\""
   ]
  },
  {
   "cell_type": "code",
   "execution_count": 8,
   "metadata": {},
   "outputs": [
    {
     "name": "stderr",
     "output_type": "stream",
     "text": [
      "Batches: 100%|██████████| 1/1 [00:00<00:00, 105.36it/s]\n"
     ]
    },
    {
     "name": "stdout",
     "output_type": "stream",
     "text": [
      "Key Terms: ['[GUERRA MUNDIAL (1939-1945)]', '[GUERRA MUNDIAL (1914-1918)]', '[SOVIETS]', '[GUERRA NUCLEAR]', '[GUERRA NAVAL]', '[GUERRA CIVIL]', '[HISTORIA MILITAR]', '[PROPAGANDA DE GUERRA]', '[IRAQ]', '[GUERRA DE GUERRILLAS]']\n",
      "Relevant Key Terms: [GUERRA MUNDIAL (1939-1945)];[GUERRA MUNDIAL (1914-1918)];[SOVIETS];[GUERRA NUCLEAR];[GUERRA NAVAL];[GUERRA CIVIL];[HISTORIA MILITAR];[PROPAGANDA DE GUERRA];[IRAQ];[GUERRA DE GUERRILLAS]\n"
     ]
    }
   ],
   "source": [
    "# Get relevant key terms\n",
    "key_terms = get_relevant_key_terms(question)\n",
    "\n",
    "key_terms_array = [\"[\" + term.replace('\"', '') + \"]\" for term in key_terms.keys()]\n",
    "print(\"Key Terms:\", key_terms_array)\n",
    "\n",
    "# Join the key terms array into a single string separated by semi-colons\n",
    "key_terms_string = \";\".join(key_terms_array)\n",
    "print(\"Relevant Key Terms:\", key_terms_string)"
   ]
  },
  {
   "cell_type": "code",
   "execution_count": 9,
   "metadata": {},
   "outputs": [
    {
     "name": "stderr",
     "output_type": "stream",
     "text": [
      "time=2025-01-08T15:54:16.052+01:00 level=INFO source=sched.go:714 msg=\"new model will fit in available VRAM in single GPU, loading\" model=/Users/luke/.ollama/models/blobs/sha256-dde5aa3fc5ffc17176b5e8bdc82f587b24b2678c6c66101bf7da77af9f7ccdff gpu=0 parallel=4 available=11453251584 required=\"3.8 GiB\"\n",
      "time=2025-01-08T15:54:16.057+01:00 level=INFO source=server.go:104 msg=\"system memory\" total=\"16.0 GiB\" free=\"6.2 GiB\" free_swap=\"0 B\"\n",
      "time=2025-01-08T15:54:16.057+01:00 level=INFO source=memory.go:356 msg=\"offload to metal\" layers.requested=-1 layers.model=29 layers.offload=29 layers.split=\"\" memory.available=\"[10.7 GiB]\" memory.gpu_overhead=\"0 B\" memory.required.full=\"3.8 GiB\" memory.required.partial=\"3.8 GiB\" memory.required.kv=\"896.0 MiB\" memory.required.allocations=\"[3.8 GiB]\" memory.weights.total=\"2.4 GiB\" memory.weights.repeating=\"2.1 GiB\" memory.weights.nonrepeating=\"308.2 MiB\" memory.graph.full=\"424.0 MiB\" memory.graph.partial=\"424.0 MiB\"\n",
      "time=2025-01-08T15:54:16.058+01:00 level=INFO source=server.go:376 msg=\"starting llama server\" cmd=\"/usr/local/bin/ollama runner --model /Users/luke/.ollama/models/blobs/sha256-dde5aa3fc5ffc17176b5e8bdc82f587b24b2678c6c66101bf7da77af9f7ccdff --ctx-size 8192 --batch-size 512 --n-gpu-layers 29 --threads 4 --parallel 4 --port 50885\"\n",
      "time=2025-01-08T15:54:16.059+01:00 level=INFO source=sched.go:449 msg=\"loaded runners\" count=1\n",
      "time=2025-01-08T15:54:16.059+01:00 level=INFO source=server.go:555 msg=\"waiting for llama runner to start responding\"\n",
      "time=2025-01-08T15:54:16.059+01:00 level=INFO source=server.go:589 msg=\"waiting for server to become available\" status=\"llm server error\"\n",
      "time=2025-01-08T15:54:16.067+01:00 level=INFO source=runner.go:945 msg=\"starting go runner\"\n",
      "time=2025-01-08T15:54:16.068+01:00 level=INFO source=runner.go:946 msg=system info=\"Metal : EMBED_LIBRARY = 1 | CPU : NEON = 1 | ARM_FMA = 1 | FP16_VA = 1 | LLAMAFILE = 1 | ACCELERATE = 1 | AARCH64_REPACK = 1 | Metal : EMBED_LIBRARY = 1 | CPU : NEON = 1 | ARM_FMA = 1 | FP16_VA = 1 | LLAMAFILE = 1 | ACCELERATE = 1 | AARCH64_REPACK = 1 | cgo(clang)\" threads=4\n",
      "time=2025-01-08T15:54:16.068+01:00 level=INFO source=runner.go:1004 msg=\"Server listening on 127.0.0.1:50885\"\n",
      "llama_load_model_from_file: using device Metal (Apple M2) - 10922 MiB free\n",
      "llama_model_loader: loaded meta data with 30 key-value pairs and 255 tensors from /Users/luke/.ollama/models/blobs/sha256-dde5aa3fc5ffc17176b5e8bdc82f587b24b2678c6c66101bf7da77af9f7ccdff (version GGUF V3 (latest))\n",
      "llama_model_loader: Dumping metadata keys/values. Note: KV overrides do not apply in this output.\n",
      "llama_model_loader: - kv   0:                       general.architecture str              = llama\n",
      "llama_model_loader: - kv   1:                               general.type str              = model\n",
      "llama_model_loader: - kv   2:                               general.name str              = Llama 3.2 3B Instruct\n",
      "llama_model_loader: - kv   3:                           general.finetune str              = Instruct\n",
      "llama_model_loader: - kv   4:                           general.basename str              = Llama-3.2\n",
      "llama_model_loader: - kv   5:                         general.size_label str              = 3B\n",
      "llama_model_loader: - kv   6:                               general.tags arr[str,6]       = [\"facebook\", \"meta\", \"pytorch\", \"llam...\n",
      "llama_model_loader: - kv   7:                          general.languages arr[str,8]       = [\"en\", \"de\", \"fr\", \"it\", \"pt\", \"hi\", ...\n",
      "llama_model_loader: - kv   8:                          llama.block_count u32              = 28\n",
      "llama_model_loader: - kv   9:                       llama.context_length u32              = 131072\n",
      "llama_model_loader: - kv  10:                     llama.embedding_length u32              = 3072\n",
      "llama_model_loader: - kv  11:                  llama.feed_forward_length u32              = 8192\n",
      "llama_model_loader: - kv  12:                 llama.attention.head_count u32              = 24\n",
      "llama_model_loader: - kv  13:              llama.attention.head_count_kv u32              = 8\n",
      "llama_model_loader: - kv  14:                       llama.rope.freq_base f32              = 500000.000000\n",
      "llama_model_loader: - kv  15:     llama.attention.layer_norm_rms_epsilon f32              = 0.000010\n",
      "llama_model_loader: - kv  16:                 llama.attention.key_length u32              = 128\n",
      "llama_model_loader: - kv  17:               llama.attention.value_length u32              = 128\n",
      "llama_model_loader: - kv  18:                          general.file_type u32              = 15\n",
      "llama_model_loader: - kv  19:                           llama.vocab_size u32              = 128256\n",
      "llama_model_loader: - kv  20:                 llama.rope.dimension_count u32              = 128\n",
      "llama_model_loader: - kv  21:                       tokenizer.ggml.model str              = gpt2\n",
      "llama_model_loader: - kv  22:                         tokenizer.ggml.pre str              = llama-bpe\n",
      "llama_model_loader: - kv  23:                      tokenizer.ggml.tokens arr[str,128256]  = [\"!\", \"\\\"\", \"#\", \"$\", \"%\", \"&\", \"'\", ...\n",
      "llama_model_loader: - kv  24:                  tokenizer.ggml.token_type arr[i32,128256]  = [1, 1, 1, 1, 1, 1, 1, 1, 1, 1, 1, 1, ...\n",
      "llama_model_loader: - kv  25:                      tokenizer.ggml.merges arr[str,280147]  = [\"Ġ Ġ\", \"Ġ ĠĠĠ\", \"ĠĠ ĠĠ\", \"...\n",
      "llama_model_loader: - kv  26:                tokenizer.ggml.bos_token_id u32              = 128000\n",
      "llama_model_loader: - kv  27:                tokenizer.ggml.eos_token_id u32              = 128009\n",
      "llama_model_loader: - kv  28:                    tokenizer.chat_template str              = {{- bos_token }}\\n{%- if custom_tools ...\n",
      "llama_model_loader: - kv  29:               general.quantization_version u32              = 2\n",
      "llama_model_loader: - type  f32:   58 tensors\n",
      "llama_model_loader: - type q4_K:  168 tensors\n",
      "llama_model_loader: - type q6_K:   29 tensors\n",
      "time=2025-01-08T15:54:16.311+01:00 level=INFO source=server.go:589 msg=\"waiting for server to become available\" status=\"llm server loading model\"\n",
      "llm_load_vocab: special tokens cache size = 256\n",
      "llm_load_vocab: token to piece cache size = 0.7999 MB\n",
      "llm_load_print_meta: format           = GGUF V3 (latest)\n",
      "llm_load_print_meta: arch             = llama\n",
      "llm_load_print_meta: vocab type       = BPE\n",
      "llm_load_print_meta: n_vocab          = 128256\n",
      "llm_load_print_meta: n_merges         = 280147\n",
      "llm_load_print_meta: vocab_only       = 0\n",
      "llm_load_print_meta: n_ctx_train      = 131072\n",
      "llm_load_print_meta: n_embd           = 3072\n",
      "llm_load_print_meta: n_layer          = 28\n",
      "llm_load_print_meta: n_head           = 24\n",
      "llm_load_print_meta: n_head_kv        = 8\n",
      "llm_load_print_meta: n_rot            = 128\n",
      "llm_load_print_meta: n_swa            = 0\n",
      "llm_load_print_meta: n_embd_head_k    = 128\n",
      "llm_load_print_meta: n_embd_head_v    = 128\n",
      "llm_load_print_meta: n_gqa            = 3\n",
      "llm_load_print_meta: n_embd_k_gqa     = 1024\n",
      "llm_load_print_meta: n_embd_v_gqa     = 1024\n",
      "llm_load_print_meta: f_norm_eps       = 0.0e+00\n",
      "llm_load_print_meta: f_norm_rms_eps   = 1.0e-05\n",
      "llm_load_print_meta: f_clamp_kqv      = 0.0e+00\n",
      "llm_load_print_meta: f_max_alibi_bias = 0.0e+00\n",
      "llm_load_print_meta: f_logit_scale    = 0.0e+00\n",
      "llm_load_print_meta: n_ff             = 8192\n",
      "llm_load_print_meta: n_expert         = 0\n",
      "llm_load_print_meta: n_expert_used    = 0\n",
      "llm_load_print_meta: causal attn      = 1\n",
      "llm_load_print_meta: pooling type     = 0\n",
      "llm_load_print_meta: rope type        = 0\n",
      "llm_load_print_meta: rope scaling     = linear\n",
      "llm_load_print_meta: freq_base_train  = 500000.0\n",
      "llm_load_print_meta: freq_scale_train = 1\n",
      "llm_load_print_meta: n_ctx_orig_yarn  = 131072\n",
      "llm_load_print_meta: rope_finetuned   = unknown\n",
      "llm_load_print_meta: ssm_d_conv       = 0\n",
      "llm_load_print_meta: ssm_d_inner      = 0\n",
      "llm_load_print_meta: ssm_d_state      = 0\n",
      "llm_load_print_meta: ssm_dt_rank      = 0\n",
      "llm_load_print_meta: ssm_dt_b_c_rms   = 0\n",
      "llm_load_print_meta: model type       = 3B\n",
      "llm_load_print_meta: model ftype      = Q4_K - Medium\n",
      "llm_load_print_meta: model params     = 3.21 B\n",
      "llm_load_print_meta: model size       = 1.87 GiB (5.01 BPW) \n",
      "llm_load_print_meta: general.name     = Llama 3.2 3B Instruct\n",
      "llm_load_print_meta: BOS token        = 128000 '<|begin_of_text|>'\n",
      "llm_load_print_meta: EOS token        = 128009 '<|eot_id|>'\n",
      "llm_load_print_meta: EOT token        = 128009 '<|eot_id|>'\n",
      "llm_load_print_meta: EOM token        = 128008 '<|eom_id|>'\n",
      "llm_load_print_meta: LF token         = 128 'Ä'\n",
      "llm_load_print_meta: EOG token        = 128008 '<|eom_id|>'\n",
      "llm_load_print_meta: EOG token        = 128009 '<|eot_id|>'\n",
      "llm_load_print_meta: max token length = 256\n",
      "llm_load_tensors: offloading 28 repeating layers to GPU\n",
      "llm_load_tensors: offloading output layer to GPU\n",
      "llm_load_tensors: offloaded 29/29 layers to GPU\n",
      "llm_load_tensors:   CPU_Mapped model buffer size =   308.23 MiB\n",
      "llm_load_tensors: Metal_Mapped model buffer size =  1918.36 MiB\n",
      "llama_new_context_with_model: n_seq_max     = 4\n",
      "llama_new_context_with_model: n_ctx         = 8192\n",
      "llama_new_context_with_model: n_ctx_per_seq = 2048\n",
      "llama_new_context_with_model: n_batch       = 2048\n",
      "llama_new_context_with_model: n_ubatch      = 512\n",
      "llama_new_context_with_model: flash_attn    = 0\n",
      "llama_new_context_with_model: freq_base     = 500000.0\n",
      "llama_new_context_with_model: freq_scale    = 1\n",
      "llama_new_context_with_model: n_ctx_per_seq (2048) < n_ctx_train (131072) -- the full capacity of the model will not be utilized\n",
      "ggml_metal_init: allocating\n",
      "ggml_metal_init: found device: Apple M2\n",
      "ggml_metal_init: picking default device: Apple M2\n",
      "ggml_metal_init: using embedded metal library\n",
      "ggml_metal_init: GPU name:   Apple M2\n",
      "ggml_metal_init: GPU family: MTLGPUFamilyApple8  (1008)\n",
      "ggml_metal_init: GPU family: MTLGPUFamilyCommon3 (3003)\n",
      "ggml_metal_init: GPU family: MTLGPUFamilyMetal3  (5001)\n",
      "ggml_metal_init: simdgroup reduction   = true\n",
      "ggml_metal_init: simdgroup matrix mul. = true\n",
      "ggml_metal_init: has bfloat            = true\n",
      "ggml_metal_init: use bfloat            = false\n",
      "ggml_metal_init: hasUnifiedMemory      = true\n",
      "ggml_metal_init: recommendedMaxWorkingSetSize  = 11453.25 MB\n",
      "ggml_metal_init: skipping kernel_get_rows_bf16                     (not supported)\n",
      "ggml_metal_init: skipping kernel_mul_mv_bf16_f32                   (not supported)\n",
      "ggml_metal_init: skipping kernel_mul_mv_bf16_f32_1row              (not supported)\n",
      "ggml_metal_init: skipping kernel_mul_mv_bf16_f32_l4                (not supported)\n",
      "ggml_metal_init: skipping kernel_mul_mv_bf16_bf16                  (not supported)\n",
      "ggml_metal_init: skipping kernel_mul_mv_id_bf16_f32                (not supported)\n",
      "ggml_metal_init: skipping kernel_mul_mm_bf16_f32                   (not supported)\n",
      "ggml_metal_init: skipping kernel_mul_mm_id_bf16_f32                (not supported)\n",
      "ggml_metal_init: skipping kernel_flash_attn_ext_bf16_h64           (not supported)\n",
      "ggml_metal_init: skipping kernel_flash_attn_ext_bf16_h80           (not supported)\n",
      "ggml_metal_init: skipping kernel_flash_attn_ext_bf16_h96           (not supported)\n",
      "ggml_metal_init: skipping kernel_flash_attn_ext_bf16_h112          (not supported)\n",
      "ggml_metal_init: skipping kernel_flash_attn_ext_bf16_h128          (not supported)\n",
      "ggml_metal_init: skipping kernel_flash_attn_ext_bf16_h256          (not supported)\n",
      "ggml_metal_init: skipping kernel_flash_attn_ext_vec_bf16_h128      (not supported)\n",
      "ggml_metal_init: skipping kernel_flash_attn_ext_vec_bf16_h256      (not supported)\n",
      "ggml_metal_init: skipping kernel_cpy_f32_bf16                      (not supported)\n",
      "ggml_metal_init: skipping kernel_cpy_bf16_f32                      (not supported)\n",
      "ggml_metal_init: skipping kernel_cpy_bf16_bf16                     (not supported)\n",
      "llama_kv_cache_init:      Metal KV buffer size =   896.00 MiB\n",
      "llama_new_context_with_model: KV self size  =  896.00 MiB, K (f16):  448.00 MiB, V (f16):  448.00 MiB\n",
      "llama_new_context_with_model:        CPU  output buffer size =     2.00 MiB\n",
      "llama_new_context_with_model:      Metal compute buffer size =   424.00 MiB\n",
      "llama_new_context_with_model:        CPU compute buffer size =    22.01 MiB\n",
      "llama_new_context_with_model: graph nodes  = 902\n",
      "llama_new_context_with_model: graph splits = 2\n",
      "time=2025-01-08T15:54:16.563+01:00 level=INFO source=server.go:594 msg=\"llama runner started in 0.50 seconds\"\n"
     ]
    },
    {
     "name": "stdout",
     "output_type": "stream",
     "text": [
      "Answer: [GUERRA MUNDIAL (1939-1945);] [SOVIETS]\n",
      "False\n",
      "Answer: [GUERRA MUNDIAL (1939-1945);] [SOVIETS]\n",
      "False\n",
      "Answer: [GUERRA MUNDIAL (1939-1945)];[SOVIETS]\n",
      "True\n"
     ]
    }
   ],
   "source": [
    "max_tries = 5\n",
    "is_answer_valid = False\n",
    "\n",
    "i = 0\n",
    "while not is_answer_valid and i < max_tries:\n",
    "    answer = ask_llama(question, key_terms_string)\n",
    "    print(\"Answer:\", answer)\n",
    "\n",
    "    answer_split = [term.strip() for term in answer.split(';')]\n",
    "    is_answer_valid = isinstance(answer, str) and len(answer_split) <= 2\n",
    "    is_answer_valid = is_answer_valid and all([term.strip() in key_terms_array for term in answer.split(';')])\n",
    "    print(is_answer_valid)\n",
    "    i += 1\n",
    "\n",
    "if i == max_tries:\n",
    "    # select two first key terms\n",
    "    answer = \";\".join(key_terms_array[:2])\n",
    "    answer_split = [term.strip() for term in answer.split(';')]\n",
    "    print(\"Answer:\", answer)"
   ]
  },
  {
   "cell_type": "code",
   "execution_count": 10,
   "metadata": {},
   "outputs": [
    {
     "name": "stdout",
     "output_type": "stream",
     "text": [
      "['[GUERRA MUNDIAL (1939-1945)]', '[SOVIETS]']\n",
      "subjectheading:[GUERRA MUNDIAL (1939-1945)]subjectheading:[SOVIETS]\n"
     ]
    }
   ],
   "source": [
    "print(answer_split)\n",
    "output = \"\"\n",
    "for term in answer_split:\n",
    "    output += f\"subjectheading:{term}\"\n",
    "print(output)"
   ]
  },
  {
   "cell_type": "code",
   "execution_count": 11,
   "metadata": {},
   "outputs": [
    {
     "name": "stdout",
     "output_type": "stream",
     "text": [
      "GUERRA MUNDIAL (1939-1945) SOVIETS\n",
      "1007089 1006079\n"
     ]
    }
   ],
   "source": [
    "term1 = answer_split[0].replace('[', '').replace(']', '')\n",
    "term2 = answer_split[1].replace('[', '').replace(']', '')\n",
    "print(term1, term2)\n",
    "print(key_terms[term1], key_terms[term2])\n"
   ]
  },
  {
   "cell_type": "code",
   "execution_count": null,
   "metadata": {},
   "outputs": [],
   "source": []
  }
 ],
 "metadata": {
  "kernelspec": {
   "display_name": "rag",
   "language": "python",
   "name": "python3"
  },
  "language_info": {
   "codemirror_mode": {
    "name": "ipython",
    "version": 3
   },
   "file_extension": ".py",
   "mimetype": "text/x-python",
   "name": "python",
   "nbconvert_exporter": "python",
   "pygments_lexer": "ipython3",
   "version": "3.11.10"
  }
 },
 "nbformat": 4,
 "nbformat_minor": 2
}
