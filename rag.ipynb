{
 "cells": [
  {
   "cell_type": "markdown",
   "metadata": {},
   "source": [
    "## Imports"
   ]
  },
  {
   "cell_type": "code",
   "execution_count": null,
   "metadata": {},
   "outputs": [],
   "source": [
    "!pip install farm-haystack transformers ollama\n",
    "!pip install torch torchvision torchaudio --index-url https://download.pytorch.org/whl/cpu\n",
    "!pip install sentence-transformers\n",
    "!pip install \"farm-haystack[inference]\""
   ]
  },
  {
   "cell_type": "code",
   "execution_count": null,
   "metadata": {},
   "outputs": [],
   "source": [
    "from haystack.document_stores import InMemoryDocumentStore\n",
    "from haystack.nodes import EmbeddingRetriever\n",
    "from haystack.schema import Document\n",
    "import ollama"
   ]
  },
  {
   "cell_type": "markdown",
   "metadata": {},
   "source": [
    "## Prepare key terms embeddings"
   ]
  },
  {
   "cell_type": "code",
   "execution_count": null,
   "metadata": {},
   "outputs": [],
   "source": [
    "document_store = InMemoryDocumentStore(embedding_dim=384)\n",
    "\n",
    "key_terms = open('terms.csv').read().split('\\n')\n",
    "\n",
    "documents = [Document(content=term) for term in key_terms]\n",
    "\n",
    "document_store.write_documents(documents)"
   ]
  },
  {
   "cell_type": "code",
   "execution_count": null,
   "metadata": {},
   "outputs": [],
   "source": [
    "retriever = EmbeddingRetriever(\n",
    "    document_store=document_store,\n",
    "    embedding_model=\"sentence-transformers/all-MiniLM-L6-v2\",\n",
    "    use_gpu=False \n",
    ")\n",
    "\n",
    "document_store.update_embeddings(retriever)"
   ]
  },
  {
   "cell_type": "markdown",
   "metadata": {},
   "source": [
    "## Prepare question embedding and question for Llama3.2"
   ]
  },
  {
   "cell_type": "code",
   "execution_count": 56,
   "metadata": {},
   "outputs": [],
   "source": [
    "def get_relevant_key_terms(question, top_k=20):\n",
    "    results = retriever.retrieve(query=question, top_k=top_k)\n",
    "    return [doc.content for doc in results]\n",
    "\n",
    "client = ollama.Client()\n",
    "\n",
    "def ask_llama(question, relevant_key_terms):\n",
    "    prompt = f\"\"\"\n",
    "        Here is a search prompt by a user of the UN digital library:\n",
    "        Question: {question}\n",
    "        Choose the three most relevant key terms to the question (separated by semi-colons):\n",
    "        Key Terms: {relevant_key_terms}\n",
    "        Output only the selected key terms, separated by semi-colons, nothing else.\n",
    "        \"\"\"\n",
    "\n",
    "    return client.chat(model=\"llama3.2\", messages=[{\"role\": \"user\", \"content\": prompt}])['message']['content']\n"
   ]
  },
  {
   "cell_type": "markdown",
   "metadata": {},
   "source": [
    "## Ask question"
   ]
  },
  {
   "cell_type": "code",
   "execution_count": 57,
   "metadata": {},
   "outputs": [],
   "source": [
    "question = \"TRADE PROMOTION, FACILITATION AND CUSTOMS ADMINISTRATION\""
   ]
  },
  {
   "cell_type": "code",
   "execution_count": 58,
   "metadata": {},
   "outputs": [
    {
     "name": "stderr",
     "output_type": "stream",
     "text": [
      "Batches: 100%|██████████| 1/1 [00:00<00:00, 101.79it/s]"
     ]
    },
    {
     "name": "stdout",
     "output_type": "stream",
     "text": [
      "Relevant Key Terms: \"TRADE PROMOTION, FACILITATION AND CUSTOMS ADMINISTRATION\";TRADE FACILITATION;CUSTOMS ADMINISTRATION;TRADE PROMOTION;TRADE FACILITATION CENTRES;INTERNATIONAL TRADE;IMPORT PROMOTION;FOREIGN TRADE;IMPORT PROCUREMENT;TRADE ASSOCIATIONS;TRADE REGULATION;EXPORT PROMOTION;TRADE POLICY;CUSTOMS ESCORTS;CUSTOMS UNIONS;GENERAL INTERNATIONAL TRADE AND TRADE POLICY;INDUSTRIAL PROMOTION;TRADE REPRESENTATION ABROAD;FOREIGN TRADE POLICY;RETAIL TRADE\n"
     ]
    },
    {
     "name": "stderr",
     "output_type": "stream",
     "text": [
      "\n"
     ]
    }
   ],
   "source": [
    "relevant_key_terms = get_relevant_key_terms(question)\n",
    "relevant_key_terms = \";\".join(relevant_key_terms)\n",
    "print(\"Relevant Key Terms:\", relevant_key_terms)"
   ]
  },
  {
   "cell_type": "code",
   "execution_count": 59,
   "metadata": {},
   "outputs": [
    {
     "name": "stdout",
     "output_type": "stream",
     "text": [
      "Answer: TRADE PROMOTION;TRADE FACILITATION;CUSTOMS ADMINISTRATION\n",
      "False\n",
      "Answer: TRADE FACILITATION;CUSTOMS ADMINISTRATION;TRADE PROMOTION\n",
      "True\n"
     ]
    }
   ],
   "source": [
    "is_answer_valid = False\n",
    "while not is_answer_valid:\n",
    "    answer = ask_llama(question, relevant_key_terms)\n",
    "    print(\"Answer:\", answer)\n",
    "\n",
    "    answer_split = [term.strip() for term in answer.split(';')]\n",
    "    is_answer_valid = isinstance(answer, str) and len(answer_split) == 3\n",
    "    is_answer_valid = is_answer_valid and all([term.strip() in relevant_key_terms for term in answer.split(',')])\n",
    "    print(is_answer_valid)"
   ]
  },
  {
   "cell_type": "code",
   "execution_count": 60,
   "metadata": {},
   "outputs": [
    {
     "name": "stdout",
     "output_type": "stream",
     "text": [
      "['TRADE FACILITATION', 'CUSTOMS ADMINISTRATION', 'TRADE PROMOTION']\n",
      "subjectheading:[TRADE FACILITATION]subjectheading:[CUSTOMS ADMINISTRATION]subjectheading:[TRADE PROMOTION]\n"
     ]
    }
   ],
   "source": [
    "print(answer_split)\n",
    "output = f\"subjectheading:[{answer_split[0]}]subjectheading:[{answer_split[1]}]subjectheading:[{answer_split[2]}]\"\n",
    "print(output)"
   ]
  },
  {
   "cell_type": "code",
   "execution_count": null,
   "metadata": {},
   "outputs": [],
   "source": []
  }
 ],
 "metadata": {
  "kernelspec": {
   "display_name": "rag",
   "language": "python",
   "name": "python3"
  },
  "language_info": {
   "codemirror_mode": {
    "name": "ipython",
    "version": 3
   },
   "file_extension": ".py",
   "mimetype": "text/x-python",
   "name": "python",
   "nbconvert_exporter": "python",
   "pygments_lexer": "ipython3",
   "version": "3.11.10"
  }
 },
 "nbformat": 4,
 "nbformat_minor": 2
}
