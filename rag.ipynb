{
 "cells": [
  {
   "cell_type": "markdown",
   "metadata": {},
   "source": [
    "## Imports"
   ]
  },
  {
   "cell_type": "code",
   "execution_count": 1,
   "metadata": {},
   "outputs": [
    {
     "name": "stdout",
     "output_type": "stream",
     "text": [
      "Requirement already satisfied: farm-haystack in /opt/homebrew/Caskroom/miniforge/base/envs/rag/lib/python3.11/site-packages (1.26.4)\n",
      "Requirement already satisfied: transformers in /opt/homebrew/Caskroom/miniforge/base/envs/rag/lib/python3.11/site-packages (4.46.3)\n",
      "Requirement already satisfied: ollama in /opt/homebrew/Caskroom/miniforge/base/envs/rag/lib/python3.11/site-packages (0.3.3)\n",
      "Requirement already satisfied: boilerpy3 in /opt/homebrew/Caskroom/miniforge/base/envs/rag/lib/python3.11/site-packages (from farm-haystack) (1.0.7)\n",
      "Requirement already satisfied: events in /opt/homebrew/Caskroom/miniforge/base/envs/rag/lib/python3.11/site-packages (from farm-haystack) (0.5)\n",
      "Requirement already satisfied: httpx in /opt/homebrew/Caskroom/miniforge/base/envs/rag/lib/python3.11/site-packages (from farm-haystack) (0.27.2)\n",
      "Requirement already satisfied: jsonschema in /opt/homebrew/Caskroom/miniforge/base/envs/rag/lib/python3.11/site-packages (from farm-haystack) (4.23.0)\n",
      "Requirement already satisfied: lazy-imports==0.3.1 in /opt/homebrew/Caskroom/miniforge/base/envs/rag/lib/python3.11/site-packages (from farm-haystack) (0.3.1)\n",
      "Requirement already satisfied: more-itertools in /opt/homebrew/Caskroom/miniforge/base/envs/rag/lib/python3.11/site-packages (from farm-haystack) (10.5.0)\n",
      "Requirement already satisfied: networkx in /opt/homebrew/Caskroom/miniforge/base/envs/rag/lib/python3.11/site-packages (from farm-haystack) (3.4.2)\n",
      "Requirement already satisfied: pandas in /opt/homebrew/Caskroom/miniforge/base/envs/rag/lib/python3.11/site-packages (from farm-haystack) (2.2.3)\n",
      "Requirement already satisfied: pillow in /opt/homebrew/Caskroom/miniforge/base/envs/rag/lib/python3.11/site-packages (from farm-haystack) (11.0.0)\n",
      "Requirement already satisfied: platformdirs in /opt/homebrew/Caskroom/miniforge/base/envs/rag/lib/python3.11/site-packages (from farm-haystack) (4.3.6)\n",
      "Requirement already satisfied: posthog in /opt/homebrew/Caskroom/miniforge/base/envs/rag/lib/python3.11/site-packages (from farm-haystack) (3.7.2)\n",
      "Requirement already satisfied: prompthub-py==4.0.0 in /opt/homebrew/Caskroom/miniforge/base/envs/rag/lib/python3.11/site-packages (from farm-haystack) (4.0.0)\n",
      "Requirement already satisfied: pydantic<2 in /opt/homebrew/Caskroom/miniforge/base/envs/rag/lib/python3.11/site-packages (from farm-haystack) (1.10.19)\n",
      "Requirement already satisfied: quantulum3 in /opt/homebrew/Caskroom/miniforge/base/envs/rag/lib/python3.11/site-packages (from farm-haystack) (0.9.2)\n",
      "Requirement already satisfied: rank-bm25 in /opt/homebrew/Caskroom/miniforge/base/envs/rag/lib/python3.11/site-packages (from farm-haystack) (0.2.2)\n",
      "Requirement already satisfied: requests in /opt/homebrew/Caskroom/miniforge/base/envs/rag/lib/python3.11/site-packages (from farm-haystack) (2.32.3)\n",
      "Requirement already satisfied: requests-cache<1.0.0 in /opt/homebrew/Caskroom/miniforge/base/envs/rag/lib/python3.11/site-packages (from farm-haystack) (0.9.8)\n",
      "Requirement already satisfied: scikit-learn>=1.3.0 in /opt/homebrew/Caskroom/miniforge/base/envs/rag/lib/python3.11/site-packages (from farm-haystack) (1.5.2)\n",
      "Requirement already satisfied: sseclient-py in /opt/homebrew/Caskroom/miniforge/base/envs/rag/lib/python3.11/site-packages (from farm-haystack) (1.8.0)\n",
      "Requirement already satisfied: tenacity in /opt/homebrew/Caskroom/miniforge/base/envs/rag/lib/python3.11/site-packages (from farm-haystack) (9.0.0)\n",
      "Requirement already satisfied: tiktoken>=0.5.1 in /opt/homebrew/Caskroom/miniforge/base/envs/rag/lib/python3.11/site-packages (from farm-haystack) (0.8.0)\n",
      "Requirement already satisfied: tqdm in /opt/homebrew/Caskroom/miniforge/base/envs/rag/lib/python3.11/site-packages (from farm-haystack) (4.67.0)\n",
      "Requirement already satisfied: pyyaml<7.0,>=6.0 in /opt/homebrew/Caskroom/miniforge/base/envs/rag/lib/python3.11/site-packages (from prompthub-py==4.0.0->farm-haystack) (6.0.2)\n",
      "Requirement already satisfied: filelock in /opt/homebrew/Caskroom/miniforge/base/envs/rag/lib/python3.11/site-packages (from transformers) (3.16.1)\n",
      "Requirement already satisfied: huggingface-hub<1.0,>=0.23.2 in /opt/homebrew/Caskroom/miniforge/base/envs/rag/lib/python3.11/site-packages (from transformers) (0.26.2)\n",
      "Requirement already satisfied: numpy>=1.17 in /opt/homebrew/Caskroom/miniforge/base/envs/rag/lib/python3.11/site-packages (from transformers) (2.1.3)\n",
      "Requirement already satisfied: packaging>=20.0 in /opt/homebrew/Caskroom/miniforge/base/envs/rag/lib/python3.11/site-packages (from transformers) (24.2)\n",
      "Requirement already satisfied: regex!=2019.12.17 in /opt/homebrew/Caskroom/miniforge/base/envs/rag/lib/python3.11/site-packages (from transformers) (2024.11.6)\n",
      "Requirement already satisfied: tokenizers<0.21,>=0.20 in /opt/homebrew/Caskroom/miniforge/base/envs/rag/lib/python3.11/site-packages (from transformers) (0.20.3)\n",
      "Requirement already satisfied: safetensors>=0.4.1 in /opt/homebrew/Caskroom/miniforge/base/envs/rag/lib/python3.11/site-packages (from transformers) (0.4.5)\n",
      "Requirement already satisfied: anyio in /opt/homebrew/Caskroom/miniforge/base/envs/rag/lib/python3.11/site-packages (from httpx->farm-haystack) (4.6.2.post1)\n",
      "Requirement already satisfied: certifi in /opt/homebrew/Caskroom/miniforge/base/envs/rag/lib/python3.11/site-packages (from httpx->farm-haystack) (2024.8.30)\n",
      "Requirement already satisfied: httpcore==1.* in /opt/homebrew/Caskroom/miniforge/base/envs/rag/lib/python3.11/site-packages (from httpx->farm-haystack) (1.0.7)\n",
      "Requirement already satisfied: idna in /opt/homebrew/Caskroom/miniforge/base/envs/rag/lib/python3.11/site-packages (from httpx->farm-haystack) (3.10)\n",
      "Requirement already satisfied: sniffio in /opt/homebrew/Caskroom/miniforge/base/envs/rag/lib/python3.11/site-packages (from httpx->farm-haystack) (1.3.1)\n",
      "Requirement already satisfied: h11<0.15,>=0.13 in /opt/homebrew/Caskroom/miniforge/base/envs/rag/lib/python3.11/site-packages (from httpcore==1.*->httpx->farm-haystack) (0.14.0)\n",
      "Requirement already satisfied: fsspec>=2023.5.0 in /opt/homebrew/Caskroom/miniforge/base/envs/rag/lib/python3.11/site-packages (from huggingface-hub<1.0,>=0.23.2->transformers) (2024.10.0)\n",
      "Requirement already satisfied: typing-extensions>=3.7.4.3 in /opt/homebrew/Caskroom/miniforge/base/envs/rag/lib/python3.11/site-packages (from huggingface-hub<1.0,>=0.23.2->transformers) (4.12.2)\n",
      "Requirement already satisfied: charset-normalizer<4,>=2 in /opt/homebrew/Caskroom/miniforge/base/envs/rag/lib/python3.11/site-packages (from requests->farm-haystack) (3.4.0)\n",
      "Requirement already satisfied: urllib3<3,>=1.21.1 in /opt/homebrew/Caskroom/miniforge/base/envs/rag/lib/python3.11/site-packages (from requests->farm-haystack) (2.2.3)\n",
      "Requirement already satisfied: appdirs>=1.4.4 in /opt/homebrew/Caskroom/miniforge/base/envs/rag/lib/python3.11/site-packages (from requests-cache<1.0.0->farm-haystack) (1.4.4)\n",
      "Requirement already satisfied: attrs>=21.2 in /opt/homebrew/Caskroom/miniforge/base/envs/rag/lib/python3.11/site-packages (from requests-cache<1.0.0->farm-haystack) (24.2.0)\n",
      "Requirement already satisfied: cattrs>=22.2 in /opt/homebrew/Caskroom/miniforge/base/envs/rag/lib/python3.11/site-packages (from requests-cache<1.0.0->farm-haystack) (24.1.2)\n",
      "Requirement already satisfied: url-normalize>=1.4 in /opt/homebrew/Caskroom/miniforge/base/envs/rag/lib/python3.11/site-packages (from requests-cache<1.0.0->farm-haystack) (1.4.3)\n",
      "Requirement already satisfied: scipy>=1.6.0 in /opt/homebrew/Caskroom/miniforge/base/envs/rag/lib/python3.11/site-packages (from scikit-learn>=1.3.0->farm-haystack) (1.14.1)\n",
      "Requirement already satisfied: joblib>=1.2.0 in /opt/homebrew/Caskroom/miniforge/base/envs/rag/lib/python3.11/site-packages (from scikit-learn>=1.3.0->farm-haystack) (1.4.2)\n",
      "Requirement already satisfied: threadpoolctl>=3.1.0 in /opt/homebrew/Caskroom/miniforge/base/envs/rag/lib/python3.11/site-packages (from scikit-learn>=1.3.0->farm-haystack) (3.5.0)\n",
      "Requirement already satisfied: jsonschema-specifications>=2023.03.6 in /opt/homebrew/Caskroom/miniforge/base/envs/rag/lib/python3.11/site-packages (from jsonschema->farm-haystack) (2024.10.1)\n",
      "Requirement already satisfied: referencing>=0.28.4 in /opt/homebrew/Caskroom/miniforge/base/envs/rag/lib/python3.11/site-packages (from jsonschema->farm-haystack) (0.35.1)\n",
      "Requirement already satisfied: rpds-py>=0.7.1 in /opt/homebrew/Caskroom/miniforge/base/envs/rag/lib/python3.11/site-packages (from jsonschema->farm-haystack) (0.21.0)\n",
      "Requirement already satisfied: python-dateutil>=2.8.2 in /opt/homebrew/Caskroom/miniforge/base/envs/rag/lib/python3.11/site-packages (from pandas->farm-haystack) (2.9.0.post0)\n",
      "Requirement already satisfied: pytz>=2020.1 in /opt/homebrew/Caskroom/miniforge/base/envs/rag/lib/python3.11/site-packages (from pandas->farm-haystack) (2024.2)\n",
      "Requirement already satisfied: tzdata>=2022.7 in /opt/homebrew/Caskroom/miniforge/base/envs/rag/lib/python3.11/site-packages (from pandas->farm-haystack) (2024.2)\n",
      "Requirement already satisfied: six>=1.5 in /opt/homebrew/Caskroom/miniforge/base/envs/rag/lib/python3.11/site-packages (from posthog->farm-haystack) (1.16.0)\n",
      "Requirement already satisfied: monotonic>=1.5 in /opt/homebrew/Caskroom/miniforge/base/envs/rag/lib/python3.11/site-packages (from posthog->farm-haystack) (1.6)\n",
      "Requirement already satisfied: backoff>=1.10.0 in /opt/homebrew/Caskroom/miniforge/base/envs/rag/lib/python3.11/site-packages (from posthog->farm-haystack) (2.2.1)\n",
      "Requirement already satisfied: inflect in /opt/homebrew/Caskroom/miniforge/base/envs/rag/lib/python3.11/site-packages (from quantulum3->farm-haystack) (7.4.0)\n",
      "Requirement already satisfied: num2words in /opt/homebrew/Caskroom/miniforge/base/envs/rag/lib/python3.11/site-packages (from quantulum3->farm-haystack) (0.5.13)\n",
      "Requirement already satisfied: typeguard>=4.0.1 in /opt/homebrew/Caskroom/miniforge/base/envs/rag/lib/python3.11/site-packages (from inflect->quantulum3->farm-haystack) (4.4.1)\n",
      "Requirement already satisfied: docopt>=0.6.2 in /opt/homebrew/Caskroom/miniforge/base/envs/rag/lib/python3.11/site-packages (from num2words->quantulum3->farm-haystack) (0.6.2)\n",
      "Looking in indexes: https://download.pytorch.org/whl/cpu\n",
      "Requirement already satisfied: torch in /opt/homebrew/Caskroom/miniforge/base/envs/rag/lib/python3.11/site-packages (2.5.1)\n",
      "Requirement already satisfied: torchvision in /opt/homebrew/Caskroom/miniforge/base/envs/rag/lib/python3.11/site-packages (0.20.1)\n",
      "Requirement already satisfied: torchaudio in /opt/homebrew/Caskroom/miniforge/base/envs/rag/lib/python3.11/site-packages (2.5.1)\n",
      "Requirement already satisfied: filelock in /opt/homebrew/Caskroom/miniforge/base/envs/rag/lib/python3.11/site-packages (from torch) (3.16.1)\n",
      "Requirement already satisfied: typing-extensions>=4.8.0 in /opt/homebrew/Caskroom/miniforge/base/envs/rag/lib/python3.11/site-packages (from torch) (4.12.2)\n",
      "Requirement already satisfied: networkx in /opt/homebrew/Caskroom/miniforge/base/envs/rag/lib/python3.11/site-packages (from torch) (3.4.2)\n",
      "Requirement already satisfied: jinja2 in /opt/homebrew/Caskroom/miniforge/base/envs/rag/lib/python3.11/site-packages (from torch) (3.1.4)\n",
      "Requirement already satisfied: fsspec in /opt/homebrew/Caskroom/miniforge/base/envs/rag/lib/python3.11/site-packages (from torch) (2024.10.0)\n",
      "Requirement already satisfied: sympy==1.13.1 in /opt/homebrew/Caskroom/miniforge/base/envs/rag/lib/python3.11/site-packages (from torch) (1.13.1)\n",
      "Requirement already satisfied: mpmath<1.4,>=1.1.0 in /opt/homebrew/Caskroom/miniforge/base/envs/rag/lib/python3.11/site-packages (from sympy==1.13.1->torch) (1.3.0)\n",
      "Requirement already satisfied: numpy in /opt/homebrew/Caskroom/miniforge/base/envs/rag/lib/python3.11/site-packages (from torchvision) (2.1.3)\n",
      "Requirement already satisfied: pillow!=8.3.*,>=5.3.0 in /opt/homebrew/Caskroom/miniforge/base/envs/rag/lib/python3.11/site-packages (from torchvision) (11.0.0)\n",
      "Requirement already satisfied: MarkupSafe>=2.0 in /opt/homebrew/Caskroom/miniforge/base/envs/rag/lib/python3.11/site-packages (from jinja2->torch) (2.1.5)\n",
      "Requirement already satisfied: sentence-transformers in /opt/homebrew/Caskroom/miniforge/base/envs/rag/lib/python3.11/site-packages (3.0.0)\n",
      "Requirement already satisfied: transformers<5.0.0,>=4.34.0 in /opt/homebrew/Caskroom/miniforge/base/envs/rag/lib/python3.11/site-packages (from sentence-transformers) (4.46.3)\n",
      "Requirement already satisfied: tqdm in /opt/homebrew/Caskroom/miniforge/base/envs/rag/lib/python3.11/site-packages (from sentence-transformers) (4.67.0)\n",
      "Requirement already satisfied: torch>=1.11.0 in /opt/homebrew/Caskroom/miniforge/base/envs/rag/lib/python3.11/site-packages (from sentence-transformers) (2.5.1)\n",
      "Requirement already satisfied: numpy in /opt/homebrew/Caskroom/miniforge/base/envs/rag/lib/python3.11/site-packages (from sentence-transformers) (2.1.3)\n",
      "Requirement already satisfied: scikit-learn in /opt/homebrew/Caskroom/miniforge/base/envs/rag/lib/python3.11/site-packages (from sentence-transformers) (1.5.2)\n",
      "Requirement already satisfied: scipy in /opt/homebrew/Caskroom/miniforge/base/envs/rag/lib/python3.11/site-packages (from sentence-transformers) (1.14.1)\n",
      "Requirement already satisfied: huggingface-hub>=0.15.1 in /opt/homebrew/Caskroom/miniforge/base/envs/rag/lib/python3.11/site-packages (from sentence-transformers) (0.26.2)\n",
      "Requirement already satisfied: Pillow in /opt/homebrew/Caskroom/miniforge/base/envs/rag/lib/python3.11/site-packages (from sentence-transformers) (11.0.0)\n",
      "Requirement already satisfied: filelock in /opt/homebrew/Caskroom/miniforge/base/envs/rag/lib/python3.11/site-packages (from huggingface-hub>=0.15.1->sentence-transformers) (3.16.1)\n",
      "Requirement already satisfied: fsspec>=2023.5.0 in /opt/homebrew/Caskroom/miniforge/base/envs/rag/lib/python3.11/site-packages (from huggingface-hub>=0.15.1->sentence-transformers) (2024.10.0)\n",
      "Requirement already satisfied: packaging>=20.9 in /opt/homebrew/Caskroom/miniforge/base/envs/rag/lib/python3.11/site-packages (from huggingface-hub>=0.15.1->sentence-transformers) (24.2)\n",
      "Requirement already satisfied: pyyaml>=5.1 in /opt/homebrew/Caskroom/miniforge/base/envs/rag/lib/python3.11/site-packages (from huggingface-hub>=0.15.1->sentence-transformers) (6.0.2)\n",
      "Requirement already satisfied: requests in /opt/homebrew/Caskroom/miniforge/base/envs/rag/lib/python3.11/site-packages (from huggingface-hub>=0.15.1->sentence-transformers) (2.32.3)\n",
      "Requirement already satisfied: typing-extensions>=3.7.4.3 in /opt/homebrew/Caskroom/miniforge/base/envs/rag/lib/python3.11/site-packages (from huggingface-hub>=0.15.1->sentence-transformers) (4.12.2)\n",
      "Requirement already satisfied: networkx in /opt/homebrew/Caskroom/miniforge/base/envs/rag/lib/python3.11/site-packages (from torch>=1.11.0->sentence-transformers) (3.4.2)\n",
      "Requirement already satisfied: jinja2 in /opt/homebrew/Caskroom/miniforge/base/envs/rag/lib/python3.11/site-packages (from torch>=1.11.0->sentence-transformers) (3.1.4)\n",
      "Requirement already satisfied: sympy==1.13.1 in /opt/homebrew/Caskroom/miniforge/base/envs/rag/lib/python3.11/site-packages (from torch>=1.11.0->sentence-transformers) (1.13.1)\n",
      "Requirement already satisfied: mpmath<1.4,>=1.1.0 in /opt/homebrew/Caskroom/miniforge/base/envs/rag/lib/python3.11/site-packages (from sympy==1.13.1->torch>=1.11.0->sentence-transformers) (1.3.0)\n",
      "Requirement already satisfied: regex!=2019.12.17 in /opt/homebrew/Caskroom/miniforge/base/envs/rag/lib/python3.11/site-packages (from transformers<5.0.0,>=4.34.0->sentence-transformers) (2024.11.6)\n",
      "Requirement already satisfied: tokenizers<0.21,>=0.20 in /opt/homebrew/Caskroom/miniforge/base/envs/rag/lib/python3.11/site-packages (from transformers<5.0.0,>=4.34.0->sentence-transformers) (0.20.3)\n",
      "Requirement already satisfied: safetensors>=0.4.1 in /opt/homebrew/Caskroom/miniforge/base/envs/rag/lib/python3.11/site-packages (from transformers<5.0.0,>=4.34.0->sentence-transformers) (0.4.5)\n",
      "Requirement already satisfied: joblib>=1.2.0 in /opt/homebrew/Caskroom/miniforge/base/envs/rag/lib/python3.11/site-packages (from scikit-learn->sentence-transformers) (1.4.2)\n",
      "Requirement already satisfied: threadpoolctl>=3.1.0 in /opt/homebrew/Caskroom/miniforge/base/envs/rag/lib/python3.11/site-packages (from scikit-learn->sentence-transformers) (3.5.0)\n",
      "Requirement already satisfied: MarkupSafe>=2.0 in /opt/homebrew/Caskroom/miniforge/base/envs/rag/lib/python3.11/site-packages (from jinja2->torch>=1.11.0->sentence-transformers) (2.1.5)\n",
      "Requirement already satisfied: charset-normalizer<4,>=2 in /opt/homebrew/Caskroom/miniforge/base/envs/rag/lib/python3.11/site-packages (from requests->huggingface-hub>=0.15.1->sentence-transformers) (3.4.0)\n",
      "Requirement already satisfied: idna<4,>=2.5 in /opt/homebrew/Caskroom/miniforge/base/envs/rag/lib/python3.11/site-packages (from requests->huggingface-hub>=0.15.1->sentence-transformers) (3.10)\n",
      "Requirement already satisfied: urllib3<3,>=1.21.1 in /opt/homebrew/Caskroom/miniforge/base/envs/rag/lib/python3.11/site-packages (from requests->huggingface-hub>=0.15.1->sentence-transformers) (2.2.3)\n",
      "Requirement already satisfied: certifi>=2017.4.17 in /opt/homebrew/Caskroom/miniforge/base/envs/rag/lib/python3.11/site-packages (from requests->huggingface-hub>=0.15.1->sentence-transformers) (2024.8.30)\n",
      "Requirement already satisfied: farm-haystack[inference] in /opt/homebrew/Caskroom/miniforge/base/envs/rag/lib/python3.11/site-packages (1.26.4)\n",
      "Requirement already satisfied: boilerpy3 in /opt/homebrew/Caskroom/miniforge/base/envs/rag/lib/python3.11/site-packages (from farm-haystack[inference]) (1.0.7)\n",
      "Requirement already satisfied: events in /opt/homebrew/Caskroom/miniforge/base/envs/rag/lib/python3.11/site-packages (from farm-haystack[inference]) (0.5)\n",
      "Requirement already satisfied: httpx in /opt/homebrew/Caskroom/miniforge/base/envs/rag/lib/python3.11/site-packages (from farm-haystack[inference]) (0.27.2)\n",
      "Requirement already satisfied: jsonschema in /opt/homebrew/Caskroom/miniforge/base/envs/rag/lib/python3.11/site-packages (from farm-haystack[inference]) (4.23.0)\n",
      "Requirement already satisfied: lazy-imports==0.3.1 in /opt/homebrew/Caskroom/miniforge/base/envs/rag/lib/python3.11/site-packages (from farm-haystack[inference]) (0.3.1)\n",
      "Requirement already satisfied: more-itertools in /opt/homebrew/Caskroom/miniforge/base/envs/rag/lib/python3.11/site-packages (from farm-haystack[inference]) (10.5.0)\n",
      "Requirement already satisfied: networkx in /opt/homebrew/Caskroom/miniforge/base/envs/rag/lib/python3.11/site-packages (from farm-haystack[inference]) (3.4.2)\n",
      "Requirement already satisfied: pandas in /opt/homebrew/Caskroom/miniforge/base/envs/rag/lib/python3.11/site-packages (from farm-haystack[inference]) (2.2.3)\n",
      "Requirement already satisfied: pillow in /opt/homebrew/Caskroom/miniforge/base/envs/rag/lib/python3.11/site-packages (from farm-haystack[inference]) (11.0.0)\n",
      "Requirement already satisfied: platformdirs in /opt/homebrew/Caskroom/miniforge/base/envs/rag/lib/python3.11/site-packages (from farm-haystack[inference]) (4.3.6)\n",
      "Requirement already satisfied: posthog in /opt/homebrew/Caskroom/miniforge/base/envs/rag/lib/python3.11/site-packages (from farm-haystack[inference]) (3.7.2)\n",
      "Requirement already satisfied: prompthub-py==4.0.0 in /opt/homebrew/Caskroom/miniforge/base/envs/rag/lib/python3.11/site-packages (from farm-haystack[inference]) (4.0.0)\n",
      "Requirement already satisfied: pydantic<2 in /opt/homebrew/Caskroom/miniforge/base/envs/rag/lib/python3.11/site-packages (from farm-haystack[inference]) (1.10.19)\n",
      "Requirement already satisfied: quantulum3 in /opt/homebrew/Caskroom/miniforge/base/envs/rag/lib/python3.11/site-packages (from farm-haystack[inference]) (0.9.2)\n",
      "Requirement already satisfied: rank-bm25 in /opt/homebrew/Caskroom/miniforge/base/envs/rag/lib/python3.11/site-packages (from farm-haystack[inference]) (0.2.2)\n",
      "Requirement already satisfied: requests in /opt/homebrew/Caskroom/miniforge/base/envs/rag/lib/python3.11/site-packages (from farm-haystack[inference]) (2.32.3)\n",
      "Requirement already satisfied: requests-cache<1.0.0 in /opt/homebrew/Caskroom/miniforge/base/envs/rag/lib/python3.11/site-packages (from farm-haystack[inference]) (0.9.8)\n",
      "Requirement already satisfied: scikit-learn>=1.3.0 in /opt/homebrew/Caskroom/miniforge/base/envs/rag/lib/python3.11/site-packages (from farm-haystack[inference]) (1.5.2)\n",
      "Requirement already satisfied: sseclient-py in /opt/homebrew/Caskroom/miniforge/base/envs/rag/lib/python3.11/site-packages (from farm-haystack[inference]) (1.8.0)\n",
      "Requirement already satisfied: tenacity in /opt/homebrew/Caskroom/miniforge/base/envs/rag/lib/python3.11/site-packages (from farm-haystack[inference]) (9.0.0)\n",
      "Requirement already satisfied: tiktoken>=0.5.1 in /opt/homebrew/Caskroom/miniforge/base/envs/rag/lib/python3.11/site-packages (from farm-haystack[inference]) (0.8.0)\n",
      "Requirement already satisfied: tqdm in /opt/homebrew/Caskroom/miniforge/base/envs/rag/lib/python3.11/site-packages (from farm-haystack[inference]) (4.67.0)\n",
      "Requirement already satisfied: transformers<5.0,>=4.46 in /opt/homebrew/Caskroom/miniforge/base/envs/rag/lib/python3.11/site-packages (from farm-haystack[inference]) (4.46.3)\n",
      "Requirement already satisfied: huggingface-hub>=0.5.0 in /opt/homebrew/Caskroom/miniforge/base/envs/rag/lib/python3.11/site-packages (from farm-haystack[inference]) (0.26.2)\n",
      "Requirement already satisfied: sentence-transformers<=3.0.0,>=2.3.1 in /opt/homebrew/Caskroom/miniforge/base/envs/rag/lib/python3.11/site-packages (from farm-haystack[inference]) (3.0.0)\n",
      "Requirement already satisfied: pyyaml<7.0,>=6.0 in /opt/homebrew/Caskroom/miniforge/base/envs/rag/lib/python3.11/site-packages (from prompthub-py==4.0.0->farm-haystack[inference]) (6.0.2)\n",
      "Requirement already satisfied: filelock in /opt/homebrew/Caskroom/miniforge/base/envs/rag/lib/python3.11/site-packages (from huggingface-hub>=0.5.0->farm-haystack[inference]) (3.16.1)\n",
      "Requirement already satisfied: fsspec>=2023.5.0 in /opt/homebrew/Caskroom/miniforge/base/envs/rag/lib/python3.11/site-packages (from huggingface-hub>=0.5.0->farm-haystack[inference]) (2024.10.0)\n",
      "Requirement already satisfied: packaging>=20.9 in /opt/homebrew/Caskroom/miniforge/base/envs/rag/lib/python3.11/site-packages (from huggingface-hub>=0.5.0->farm-haystack[inference]) (24.2)\n",
      "Requirement already satisfied: typing-extensions>=3.7.4.3 in /opt/homebrew/Caskroom/miniforge/base/envs/rag/lib/python3.11/site-packages (from huggingface-hub>=0.5.0->farm-haystack[inference]) (4.12.2)\n",
      "Requirement already satisfied: charset-normalizer<4,>=2 in /opt/homebrew/Caskroom/miniforge/base/envs/rag/lib/python3.11/site-packages (from requests->farm-haystack[inference]) (3.4.0)\n",
      "Requirement already satisfied: idna<4,>=2.5 in /opt/homebrew/Caskroom/miniforge/base/envs/rag/lib/python3.11/site-packages (from requests->farm-haystack[inference]) (3.10)\n",
      "Requirement already satisfied: urllib3<3,>=1.21.1 in /opt/homebrew/Caskroom/miniforge/base/envs/rag/lib/python3.11/site-packages (from requests->farm-haystack[inference]) (2.2.3)\n",
      "Requirement already satisfied: certifi>=2017.4.17 in /opt/homebrew/Caskroom/miniforge/base/envs/rag/lib/python3.11/site-packages (from requests->farm-haystack[inference]) (2024.8.30)\n",
      "Requirement already satisfied: appdirs>=1.4.4 in /opt/homebrew/Caskroom/miniforge/base/envs/rag/lib/python3.11/site-packages (from requests-cache<1.0.0->farm-haystack[inference]) (1.4.4)\n",
      "Requirement already satisfied: attrs>=21.2 in /opt/homebrew/Caskroom/miniforge/base/envs/rag/lib/python3.11/site-packages (from requests-cache<1.0.0->farm-haystack[inference]) (24.2.0)\n",
      "Requirement already satisfied: cattrs>=22.2 in /opt/homebrew/Caskroom/miniforge/base/envs/rag/lib/python3.11/site-packages (from requests-cache<1.0.0->farm-haystack[inference]) (24.1.2)\n",
      "Requirement already satisfied: url-normalize>=1.4 in /opt/homebrew/Caskroom/miniforge/base/envs/rag/lib/python3.11/site-packages (from requests-cache<1.0.0->farm-haystack[inference]) (1.4.3)\n",
      "Requirement already satisfied: numpy>=1.19.5 in /opt/homebrew/Caskroom/miniforge/base/envs/rag/lib/python3.11/site-packages (from scikit-learn>=1.3.0->farm-haystack[inference]) (2.1.3)\n",
      "Requirement already satisfied: scipy>=1.6.0 in /opt/homebrew/Caskroom/miniforge/base/envs/rag/lib/python3.11/site-packages (from scikit-learn>=1.3.0->farm-haystack[inference]) (1.14.1)\n",
      "Requirement already satisfied: joblib>=1.2.0 in /opt/homebrew/Caskroom/miniforge/base/envs/rag/lib/python3.11/site-packages (from scikit-learn>=1.3.0->farm-haystack[inference]) (1.4.2)\n",
      "Requirement already satisfied: threadpoolctl>=3.1.0 in /opt/homebrew/Caskroom/miniforge/base/envs/rag/lib/python3.11/site-packages (from scikit-learn>=1.3.0->farm-haystack[inference]) (3.5.0)\n",
      "Requirement already satisfied: torch>=1.11.0 in /opt/homebrew/Caskroom/miniforge/base/envs/rag/lib/python3.11/site-packages (from sentence-transformers<=3.0.0,>=2.3.1->farm-haystack[inference]) (2.5.1)\n",
      "Requirement already satisfied: regex>=2022.1.18 in /opt/homebrew/Caskroom/miniforge/base/envs/rag/lib/python3.11/site-packages (from tiktoken>=0.5.1->farm-haystack[inference]) (2024.11.6)\n",
      "Requirement already satisfied: tokenizers<0.21,>=0.20 in /opt/homebrew/Caskroom/miniforge/base/envs/rag/lib/python3.11/site-packages (from transformers<5.0,>=4.46->farm-haystack[inference]) (0.20.3)\n",
      "Requirement already satisfied: safetensors>=0.4.1 in /opt/homebrew/Caskroom/miniforge/base/envs/rag/lib/python3.11/site-packages (from transformers<5.0,>=4.46->farm-haystack[inference]) (0.4.5)\n",
      "Requirement already satisfied: sentencepiece!=0.1.92,>=0.1.91 in /opt/homebrew/Caskroom/miniforge/base/envs/rag/lib/python3.11/site-packages (from transformers[sentencepiece,torch]<5.0,>=4.46; extra == \"inference\"->farm-haystack[inference]) (0.2.0)\n",
      "Requirement already satisfied: protobuf in /opt/homebrew/Caskroom/miniforge/base/envs/rag/lib/python3.11/site-packages (from transformers[sentencepiece,torch]<5.0,>=4.46; extra == \"inference\"->farm-haystack[inference]) (5.28.3)\n",
      "Requirement already satisfied: accelerate>=0.26.0 in /opt/homebrew/Caskroom/miniforge/base/envs/rag/lib/python3.11/site-packages (from transformers[sentencepiece,torch]<5.0,>=4.46; extra == \"inference\"->farm-haystack[inference]) (1.1.1)\n",
      "Requirement already satisfied: anyio in /opt/homebrew/Caskroom/miniforge/base/envs/rag/lib/python3.11/site-packages (from httpx->farm-haystack[inference]) (4.6.2.post1)\n",
      "Requirement already satisfied: httpcore==1.* in /opt/homebrew/Caskroom/miniforge/base/envs/rag/lib/python3.11/site-packages (from httpx->farm-haystack[inference]) (1.0.7)\n",
      "Requirement already satisfied: sniffio in /opt/homebrew/Caskroom/miniforge/base/envs/rag/lib/python3.11/site-packages (from httpx->farm-haystack[inference]) (1.3.1)\n",
      "Requirement already satisfied: h11<0.15,>=0.13 in /opt/homebrew/Caskroom/miniforge/base/envs/rag/lib/python3.11/site-packages (from httpcore==1.*->httpx->farm-haystack[inference]) (0.14.0)\n",
      "Requirement already satisfied: jsonschema-specifications>=2023.03.6 in /opt/homebrew/Caskroom/miniforge/base/envs/rag/lib/python3.11/site-packages (from jsonschema->farm-haystack[inference]) (2024.10.1)\n",
      "Requirement already satisfied: referencing>=0.28.4 in /opt/homebrew/Caskroom/miniforge/base/envs/rag/lib/python3.11/site-packages (from jsonschema->farm-haystack[inference]) (0.35.1)\n",
      "Requirement already satisfied: rpds-py>=0.7.1 in /opt/homebrew/Caskroom/miniforge/base/envs/rag/lib/python3.11/site-packages (from jsonschema->farm-haystack[inference]) (0.21.0)\n",
      "Requirement already satisfied: python-dateutil>=2.8.2 in /opt/homebrew/Caskroom/miniforge/base/envs/rag/lib/python3.11/site-packages (from pandas->farm-haystack[inference]) (2.9.0.post0)\n",
      "Requirement already satisfied: pytz>=2020.1 in /opt/homebrew/Caskroom/miniforge/base/envs/rag/lib/python3.11/site-packages (from pandas->farm-haystack[inference]) (2024.2)\n",
      "Requirement already satisfied: tzdata>=2022.7 in /opt/homebrew/Caskroom/miniforge/base/envs/rag/lib/python3.11/site-packages (from pandas->farm-haystack[inference]) (2024.2)\n",
      "Requirement already satisfied: six>=1.5 in /opt/homebrew/Caskroom/miniforge/base/envs/rag/lib/python3.11/site-packages (from posthog->farm-haystack[inference]) (1.16.0)\n",
      "Requirement already satisfied: monotonic>=1.5 in /opt/homebrew/Caskroom/miniforge/base/envs/rag/lib/python3.11/site-packages (from posthog->farm-haystack[inference]) (1.6)\n",
      "Requirement already satisfied: backoff>=1.10.0 in /opt/homebrew/Caskroom/miniforge/base/envs/rag/lib/python3.11/site-packages (from posthog->farm-haystack[inference]) (2.2.1)\n",
      "Requirement already satisfied: inflect in /opt/homebrew/Caskroom/miniforge/base/envs/rag/lib/python3.11/site-packages (from quantulum3->farm-haystack[inference]) (7.4.0)\n",
      "Requirement already satisfied: num2words in /opt/homebrew/Caskroom/miniforge/base/envs/rag/lib/python3.11/site-packages (from quantulum3->farm-haystack[inference]) (0.5.13)\n",
      "Requirement already satisfied: psutil in /opt/homebrew/Caskroom/miniforge/base/envs/rag/lib/python3.11/site-packages (from accelerate>=0.26.0->transformers[sentencepiece,torch]<5.0,>=4.46; extra == \"inference\"->farm-haystack[inference]) (6.1.0)\n",
      "Requirement already satisfied: jinja2 in /opt/homebrew/Caskroom/miniforge/base/envs/rag/lib/python3.11/site-packages (from torch>=1.11.0->sentence-transformers<=3.0.0,>=2.3.1->farm-haystack[inference]) (3.1.4)\n",
      "Requirement already satisfied: sympy==1.13.1 in /opt/homebrew/Caskroom/miniforge/base/envs/rag/lib/python3.11/site-packages (from torch>=1.11.0->sentence-transformers<=3.0.0,>=2.3.1->farm-haystack[inference]) (1.13.1)\n",
      "Requirement already satisfied: mpmath<1.4,>=1.1.0 in /opt/homebrew/Caskroom/miniforge/base/envs/rag/lib/python3.11/site-packages (from sympy==1.13.1->torch>=1.11.0->sentence-transformers<=3.0.0,>=2.3.1->farm-haystack[inference]) (1.3.0)\n",
      "Requirement already satisfied: typeguard>=4.0.1 in /opt/homebrew/Caskroom/miniforge/base/envs/rag/lib/python3.11/site-packages (from inflect->quantulum3->farm-haystack[inference]) (4.4.1)\n",
      "Requirement already satisfied: docopt>=0.6.2 in /opt/homebrew/Caskroom/miniforge/base/envs/rag/lib/python3.11/site-packages (from num2words->quantulum3->farm-haystack[inference]) (0.6.2)\n",
      "Requirement already satisfied: MarkupSafe>=2.0 in /opt/homebrew/Caskroom/miniforge/base/envs/rag/lib/python3.11/site-packages (from jinja2->torch>=1.11.0->sentence-transformers<=3.0.0,>=2.3.1->farm-haystack[inference]) (2.1.5)\n"
     ]
    }
   ],
   "source": [
    "!pip install farm-haystack transformers ollama\n",
    "!pip install torch torchvision torchaudio --index-url https://download.pytorch.org/whl/cpu\n",
    "!pip install sentence-transformers\n",
    "!pip install \"farm-haystack[inference]\""
   ]
  },
  {
   "cell_type": "code",
   "execution_count": 1,
   "metadata": {},
   "outputs": [
    {
     "name": "stderr",
     "output_type": "stream",
     "text": [
      "/opt/homebrew/Caskroom/miniforge/base/envs/rag/lib/python3.11/site-packages/tqdm/auto.py:21: TqdmWarning: IProgress not found. Please update jupyter and ipywidgets. See https://ipywidgets.readthedocs.io/en/stable/user_install.html\n",
      "  from .autonotebook import tqdm as notebook_tqdm\n"
     ]
    }
   ],
   "source": [
    "from haystack.document_stores import InMemoryDocumentStore\n",
    "from haystack.nodes import EmbeddingRetriever\n",
    "from haystack.schema import Document\n",
    "import ollama\n",
    "import os\n",
    "import pickle\n",
    "import pandas as pd"
   ]
  },
  {
   "cell_type": "code",
   "execution_count": 10,
   "metadata": {},
   "outputs": [],
   "source": [
    "CUR_LANG = \"zh\"\n",
    "def EMBEDDINGS_PATH(lang: str):\n",
    "    return f\"embeddings_{CUR_LANG}.pkl\""
   ]
  },
  {
   "cell_type": "markdown",
   "metadata": {},
   "source": [
    "## Prepare key terms embeddings"
   ]
  },
  {
   "cell_type": "code",
   "execution_count": 11,
   "metadata": {},
   "outputs": [
    {
     "name": "stderr",
     "output_type": "stream",
     "text": [
      "Batches: 100%|██████████| 229/229 [00:02<00:00, 88.34it/s] s/s]\n",
      "Documents Processed: 10000 docs [00:02, 3611.43 docs/s]         \n"
     ]
    }
   ],
   "source": [
    "if (os.path.exists(EMBEDDINGS_PATH(CUR_LANG))):\n",
    "    with open(EMBEDDINGS_PATH(CUR_LANG), 'rb') as f:\n",
    "        document_store = pickle.load(f)\n",
    "        retriever = EmbeddingRetriever(\n",
    "            document_store=document_store,\n",
    "            embedding_model=\"sentence-transformers/all-MiniLM-L6-v2\",\n",
    "            use_gpu=False \n",
    "        )\n",
    "else:\n",
    "    document_store = InMemoryDocumentStore(embedding_dim=384)\n",
    "    key_terms = pd.read_csv(\"terms.csv\")\n",
    "    documents = [Document(content=term[1][CUR_LANG], id=term[1][\"id\"]) for term in key_terms.iterrows()]\n",
    "    document_store.write_documents(documents)\n",
    "    retriever = EmbeddingRetriever(\n",
    "            document_store=document_store,\n",
    "            embedding_model=\"sentence-transformers/all-MiniLM-L6-v2\",\n",
    "            use_gpu=False \n",
    "        )\n",
    "    document_store.update_embeddings(retriever)\n",
    "    with open(EMBEDDINGS_PATH(CUR_LANG), 'wb') as f:\n",
    "        pickle.dump(document_store, f)"
   ]
  },
  {
   "cell_type": "markdown",
   "metadata": {},
   "source": [
    "## Prepare question embedding and question for Llama3.2"
   ]
  },
  {
   "cell_type": "code",
   "execution_count": 28,
   "metadata": {},
   "outputs": [
    {
     "name": "stderr",
     "output_type": "stream",
     "text": [
      "huggingface/tokenizers: The current process just got forked, after parallelism has already been used. Disabling parallelism to avoid deadlocks...\n",
      "To disable this warning, you can either:\n",
      "\t- Avoid using `tokenizers` before the fork if possible\n",
      "\t- Explicitly set the environment variable TOKENIZERS_PARALLELISM=(true | false)\n"
     ]
    },
    {
     "name": "stderr",
     "output_type": "stream",
     "text": [
      "Error: listen tcp 127.0.0.1:11434: bind: address already in use\n"
     ]
    }
   ],
   "source": [
    "def get_relevant_key_terms(question, top_k=10):\n",
    "    results = retriever.retrieve(query=question, top_k=top_k)\n",
    "    return {doc.content.replace('\"', '') : doc.id for doc in results}\n",
    "\n",
    "os.popen('ollama serve')\n",
    "client = ollama.Client()\n",
    "\n",
    "def ask_llama(question, relevant_key_terms):\n",
    "    prompt = f\"\"\"\n",
    "        Here is a search prompt by a user of the UN digital library:\n",
    "        Question: {question}\n",
    "        Here is a list of key terms. Each key term is in its own square brackets.\n",
    "        Key Terms: {relevant_key_terms}\n",
    "        Select the two key terms that are most relevant to the question.\n",
    "        Output only the selected key terms as they are presented to you: each key term within square brackets.\n",
    "        Separate each set of square brackets with a semi-colon and no spaces.\n",
    "        \"\"\"\n",
    "\n",
    "    return client.chat(model=\"llama3.2\", messages=[{\"role\": \"user\", \"content\": prompt}])['message']['content']\n"
   ]
  },
  {
   "cell_type": "markdown",
   "metadata": {},
   "source": [
    "## Ask question"
   ]
  },
  {
   "cell_type": "code",
   "execution_count": 37,
   "metadata": {},
   "outputs": [],
   "source": [
    "#question = \"I would like to know more about the impact of world war 1 on the economy of Germany.\"\n",
    "question = \"world war II\""
   ]
  },
  {
   "cell_type": "code",
   "execution_count": 38,
   "metadata": {},
   "outputs": [
    {
     "name": "stderr",
     "output_type": "stream",
     "text": [
      "Batches: 100%|██████████| 1/1 [00:00<00:00, 48.55it/s]"
     ]
    },
    {
     "name": "stdout",
     "output_type": "stream",
     "text": [
      "Key Terms: ['[世界大战（1939-1945]', '[泰国]', '[日本]', '[核武器国家]', '[国籍]', '[国徽]', '[国语]', '[无核武器国家]', '[国际日]', '[国际年]']\n",
      "Relevant Key Terms: [世界大战（1939-1945];[泰国];[日本];[核武器国家];[国籍];[国徽];[国语];[无核武器国家];[国际日];[国际年]\n"
     ]
    },
    {
     "name": "stderr",
     "output_type": "stream",
     "text": [
      "\n"
     ]
    }
   ],
   "source": [
    "# Get relevant key terms\n",
    "key_terms = get_relevant_key_terms(question)\n",
    "\n",
    "key_terms_array = [\"[\" + term.replace('\"', '') + \"]\" for term in key_terms.keys()]\n",
    "print(\"Key Terms:\", key_terms_array)\n",
    "\n",
    "# Join the key terms array into a single string separated by semi-colons\n",
    "key_terms_string = \";\".join(key_terms_array)\n",
    "print(\"Relevant Key Terms:\", key_terms_string)"
   ]
  },
  {
   "cell_type": "code",
   "execution_count": 42,
   "metadata": {},
   "outputs": [
    {
     "name": "stdout",
     "output_type": "stream",
     "text": [
      "Answer: [世界大战（1939-1945);][日本]\n",
      "False\n",
      "Answer: [世界大战（1939-1945);[日本];[核武器国家];[国籍]];[无核武器国家]; [国际日]; [国际年]\n",
      "False\n",
      "Answer: [世界大战（1939-1945）;[日本];[核武器国家]\n",
      "False\n",
      "Answer: [世界大战（1939-1945）; [日本]\n",
      "False\n",
      "Answer: [世界大战（1939-1945）; [日本]; [核武器国家]\n",
      "False\n",
      "Answer: [世界大战（1939-1945];[泰国]\n"
     ]
    }
   ],
   "source": [
    "max_tries = 5\n",
    "is_answer_valid = False\n",
    "\n",
    "i = 0\n",
    "while not is_answer_valid and i < max_tries:\n",
    "    answer = ask_llama(question, key_terms_string)\n",
    "    print(\"Answer:\", answer)\n",
    "\n",
    "    answer_split = [term.strip() for term in answer.split(';')]\n",
    "    is_answer_valid = isinstance(answer, str) and len(answer_split) <= 2\n",
    "    is_answer_valid = is_answer_valid and all([term.strip() in key_terms_array for term in answer.split(';')])\n",
    "    print(is_answer_valid)\n",
    "    i += 1\n",
    "\n",
    "if i == max_tries:\n",
    "    # select two first key terms\n",
    "    answer = \";\".join(key_terms_array[:2])\n",
    "    answer_split = [term.strip() for term in answer.split(';')]\n",
    "    print(\"Answer:\", answer)"
   ]
  },
  {
   "cell_type": "code",
   "execution_count": 40,
   "metadata": {},
   "outputs": [
    {
     "name": "stdout",
     "output_type": "stream",
     "text": [
      "['[世界大战（1939-1945]', '[泰国]']\n",
      "subjectheading:[世界大战（1939-1945]subjectheading:[泰国]\n"
     ]
    }
   ],
   "source": [
    "print(answer_split)\n",
    "output = \"\"\n",
    "for term in answer_split:\n",
    "    output += f\"subjectheading:{term}\"\n",
    "print(output)"
   ]
  },
  {
   "cell_type": "code",
   "execution_count": 43,
   "metadata": {},
   "outputs": [
    {
     "name": "stdout",
     "output_type": "stream",
     "text": [
      "世界大战（1939-1945 泰国\n",
      "1007089 1006486\n"
     ]
    }
   ],
   "source": [
    "term1 = answer_split[0].replace('[', '').replace(']', '')\n",
    "term2 = answer_split[1].replace('[', '').replace(']', '')\n",
    "print(term1, term2)\n",
    "print(key_terms[term1], key_terms[term2])\n"
   ]
  },
  {
   "cell_type": "code",
   "execution_count": null,
   "metadata": {},
   "outputs": [],
   "source": []
  }
 ],
 "metadata": {
  "kernelspec": {
   "display_name": "rag",
   "language": "python",
   "name": "python3"
  },
  "language_info": {
   "codemirror_mode": {
    "name": "ipython",
    "version": 3
   },
   "file_extension": ".py",
   "mimetype": "text/x-python",
   "name": "python",
   "nbconvert_exporter": "python",
   "pygments_lexer": "ipython3",
   "version": "3.11.10"
  }
 },
 "nbformat": 4,
 "nbformat_minor": 2
}
