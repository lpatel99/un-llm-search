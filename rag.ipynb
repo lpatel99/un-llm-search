{
 "cells": [
  {
   "cell_type": "code",
   "execution_count": 1,
   "metadata": {},
   "outputs": [],
   "source": [
    "!pip install farm-haystack transformers ollama\n",
    "!pip install torch torchvision torchaudio --index-url https://download.pytorch.org/whl/cpu\n",
    "!pip install sentence-transformers\n",
    "!pip install \"farm-haystack[inference]\""
   ]
  },
  {
   "cell_type": "code",
   "execution_count": 118,
   "metadata": {},
   "outputs": [],
   "source": [
    "from haystack.document_stores import InMemoryDocumentStore\n",
    "from haystack.nodes import EmbeddingRetriever\n",
    "from haystack.schema import Document\n",
    "import ollama"
   ]
  },
  {
   "cell_type": "code",
   "execution_count": 119,
   "metadata": {},
   "outputs": [],
   "source": [
    "document_store = InMemoryDocumentStore(embedding_dim=384)\n",
    "\n",
    "key_terms = open('terms.csv').read().split('\\n')\n",
    "\n",
    "documents = [Document(content=term) for term in key_terms]\n",
    "\n",
    "document_store.write_documents(documents)"
   ]
  },
  {
   "cell_type": "code",
   "execution_count": 120,
   "metadata": {},
   "outputs": [
    {
     "name": "stderr",
     "output_type": "stream",
     "text": [
      "Batches: 100%|██████████| 224/224 [00:02<00:00, 80.89it/s]cs/s]\n",
      "Documents Processed: 10000 docs [00:02, 3526.80 docs/s]         \n"
     ]
    }
   ],
   "source": [
    "retriever = EmbeddingRetriever(\n",
    "    document_store=document_store,\n",
    "    embedding_model=\"sentence-transformers/all-MiniLM-L6-v2\",\n",
    "    use_gpu=False \n",
    ")\n",
    "\n",
    "document_store.update_embeddings(retriever)"
   ]
  },
  {
   "cell_type": "code",
   "execution_count": 144,
   "metadata": {},
   "outputs": [],
   "source": [
    "client = ollama.Client()\n",
    "\n",
    "def ask_llama(question, relevant_key_terms):\n",
    "    prompt = f\"\"\"\n",
    "        You are selecting the three most relevant key terms from the UN database relevant to the following question:\n",
    "        Question: {question}\n",
    "        Key Terms: {relevant_key_terms}\n",
    "        Output only the selected key terms, separated by commas, nothing else.\n",
    "        \"\"\"\n",
    "\n",
    "    return client.chat(model=\"llama3.2\", messages=[{\"role\": \"user\", \"content\": prompt}])['message']['content']\n"
   ]
  },
  {
   "cell_type": "code",
   "execution_count": 145,
   "metadata": {},
   "outputs": [
    {
     "name": "stderr",
     "output_type": "stream",
     "text": [
      "Batches: 100%|██████████| 1/1 [00:00<00:00, 138.89it/s]\n"
     ]
    },
    {
     "name": "stdout",
     "output_type": "stream",
     "text": [
      "Relevant Key Terms: ['WAR', 'WORLD WAR (1914-1918)', 'WAR CRIMES', 'ARMED CONFLICTS', 'EUROPE', 'WORLD WAR (1939-1945)', 'WAR PROPAGANDA', 'NUCLEAR WAR', 'WAR PREVENTION', 'WESTERN EUROPE', 'CIVIL WAR', 'WAR CRIMINALS', 'PRISONERS OF WAR', 'EUROPEAN STUDIES', 'ETHNIC CONFLICT', 'EASTERN EUROPE', 'ARMIES', 'SOUTHERN EUROPE', 'MILITARY OCCUPATION', 'WAR VICTIMS']\n"
     ]
    }
   ],
   "source": [
    "def get_relevant_key_terms(question, top_k=20):\n",
    "    results = retriever.retrieve(query=question, top_k=top_k)\n",
    "    return [doc.content for doc in results]\n",
    "\n",
    "question = \"war in europe\"\n",
    "relevant_key_terms = get_relevant_key_terms(question)\n",
    "print(\"Relevant Key Terms:\", relevant_key_terms)"
   ]
  },
  {
   "cell_type": "code",
   "execution_count": 148,
   "metadata": {},
   "outputs": [
    {
     "name": "stdout",
     "output_type": "stream",
     "text": [
      "Answer: WORLD WAR (1914-1918), WORLD WAR (1939-1945), ARMED CONFLICTS\n",
      "True\n"
     ]
    }
   ],
   "source": [
    "is_answer_valid = False\n",
    "while not is_answer_valid:\n",
    "    answer = ask_llama(question, relevant_key_terms)\n",
    "    print(\"Answer:\", answer)\n",
    "\n",
    "    answer_split = [term.strip() for term in answer.split(',')]\n",
    "    is_answer_valid = isinstance(answer, str) and len(answer_split) == 3\n",
    "    is_answer_valid = is_answer_valid and all([term.strip() in relevant_key_terms for term in answer.split(',')])\n",
    "    print(is_answer_valid)"
   ]
  },
  {
   "cell_type": "code",
   "execution_count": 149,
   "metadata": {},
   "outputs": [
    {
     "name": "stdout",
     "output_type": "stream",
     "text": [
      "['WORLD WAR (1914-1918)', 'WORLD WAR (1939-1945)', 'ARMED CONFLICTS']\n",
      "subjectheading:[WORLD WAR (1914-1918)]subjectheading:[WORLD WAR (1939-1945)]subjectheading:[ARMED CONFLICTS]\n"
     ]
    }
   ],
   "source": [
    "print(answer_split)\n",
    "output = f\"subjectheading:[{answer_split[0]}]subjectheading:[{answer_split[1]}]subjectheading:[{answer_split[2]}]\"\n",
    "print(output)"
   ]
  },
  {
   "cell_type": "code",
   "execution_count": null,
   "metadata": {},
   "outputs": [],
   "source": []
  }
 ],
 "metadata": {
  "kernelspec": {
   "display_name": "rag",
   "language": "python",
   "name": "python3"
  },
  "language_info": {
   "codemirror_mode": {
    "name": "ipython",
    "version": 3
   },
   "file_extension": ".py",
   "mimetype": "text/x-python",
   "name": "python",
   "nbconvert_exporter": "python",
   "pygments_lexer": "ipython3",
   "version": "3.11.10"
  }
 },
 "nbformat": 4,
 "nbformat_minor": 2
}
