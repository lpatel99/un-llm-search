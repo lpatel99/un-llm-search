{
 "cells": [
  {
   "cell_type": "markdown",
   "metadata": {},
   "source": [
    "## Imports"
   ]
  },
  {
   "cell_type": "code",
   "execution_count": null,
   "metadata": {},
   "outputs": [],
   "source": [
    "!pip install farm-haystack transformers ollama\n",
    "!pip install torch torchvision torchaudio --index-url https://download.pytorch.org/whl/cpu\n",
    "!pip install sentence-transformers\n",
    "!pip install \"farm-haystack[inference]\""
   ]
  },
  {
   "cell_type": "code",
   "execution_count": null,
   "metadata": {},
   "outputs": [],
   "source": [
    "from haystack.document_stores import InMemoryDocumentStore\n",
    "from haystack.nodes import EmbeddingRetriever\n",
    "from haystack.schema import Document\n",
    "import ollama\n",
    "import os\n",
    "import pickle\n",
    "import pandas as pd"
   ]
  },
  {
   "cell_type": "code",
   "execution_count": 3,
   "metadata": {},
   "outputs": [],
   "source": [
    "TERMS_PATH = \"terms.csv\"\n",
    "CUR_LANG = \"es\"\n",
    "ID = \"id\"\n",
    "ENGLISH = \"en\"\n",
    "ARABIC = \"ar\"\n",
    "SPANISH = \"es\"\n",
    "FRENCH = \"fr\"\n",
    "RUSSIAN = \"ru\"\n",
    "CHINESE = \"zh\"\n",
    "LANGUAGES = {ENGLISH: \"English\", ARABIC: \"Arabic\", SPANISH: \"Spanish\", FRENCH: \"French\", RUSSIAN: \"Russian\", CHINESE: \"Chinese\"}\n",
    "def EMBEDDINGS_PATH(lang):\n",
    "    return f\"{lang}_embeddings.pkl\""
   ]
  },
  {
   "cell_type": "code",
   "execution_count": 44,
   "metadata": {},
   "outputs": [
    {
     "name": "stdout",
     "output_type": "stream",
     "text": [
      "<class 'generator'>\n"
     ]
    }
   ],
   "source": [
    "key_terms = pd.read_csv(TERMS_PATH)\n",
    "print(type(key_terms.iterrows()))\n"
   ]
  },
  {
   "cell_type": "markdown",
   "metadata": {},
   "source": [
    "## Prepare key terms embeddings"
   ]
  },
  {
   "cell_type": "code",
   "execution_count": 38,
   "metadata": {},
   "outputs": [],
   "source": [
    "if (os.path.exists(EMBEDDINGS_PATH(CUR_LANG))):\n",
    "    with open(EMBEDDINGS_PATH(CUR_LANG), 'rb') as f:\n",
    "        document_store = pickle.load(f)\n",
    "        retriever = EmbeddingRetriever(\n",
    "            document_store=document_store,\n",
    "            embedding_model=\"sentence-transformers/paraphrase-multilingual-MiniLM-L12-v2\",\n",
    "            use_gpu=False \n",
    "        )\n",
    "else:\n",
    "    document_store = InMemoryDocumentStore(embedding_dim=384)\n",
    "    key_terms = pd.read_csv(TERMS_PATH)\n",
    "    documents = [Document(content=line[1][CUR_LANG]) for line in key_terms.iterrows()]\n",
    "    document_store.write_documents(documents)\n",
    "    retriever = EmbeddingRetriever(\n",
    "            document_store=document_store,\n",
    "            embedding_model=\"sentence-transformers/paraphrase-multilingual-MiniLM-L12-v2\",\n",
    "            use_gpu=False\n",
    "        )\n",
    "    document_store.update_embeddings(retriever)\n",
    "    with open(EMBEDDINGS_PATH(CUR_LANG), 'wb') as f:\n",
    "        pickle.dump(document_store, f)"
   ]
  },
  {
   "cell_type": "markdown",
   "metadata": {},
   "source": [
    "## Prepare question embedding and question for Llama3.2"
   ]
  },
  {
   "cell_type": "code",
   "execution_count": 39,
   "metadata": {},
   "outputs": [
    {
     "name": "stderr",
     "output_type": "stream",
     "text": [
      "huggingface/tokenizers: The current process just got forked, after parallelism has already been used. Disabling parallelism to avoid deadlocks...\n",
      "To disable this warning, you can either:\n",
      "\t- Avoid using `tokenizers` before the fork if possible\n",
      "\t- Explicitly set the environment variable TOKENIZERS_PARALLELISM=(true | false)\n"
     ]
    },
    {
     "name": "stderr",
     "output_type": "stream",
     "text": [
      "Error: listen tcp 127.0.0.1:11434: bind: address already in use\n"
     ]
    }
   ],
   "source": [
    "def get_relevant_key_terms(question, top_k=10):\n",
    "    results = retriever.retrieve(query=question, top_k=top_k)\n",
    "    return [doc.content for doc in results]\n",
    "\n",
    "os.popen('ollama serve')\n",
    "client = ollama.Client()\n",
    "\n",
    "def ask_llama(question, relevant_key_terms):\n",
    "    prompt = f\"\"\"\n",
    "        Here is a search prompt by a user of the UN digital library:\n",
    "        Question: {question}\n",
    "        Here is a list of key terms. Each key term is in square brackets.\n",
    "        Key Terms: {relevant_key_terms}\n",
    "        Select ideally one, if necessary two key terms that are most relevant to the question.\n",
    "        Output only the selected key terms as they are presented to you: each key term within square brackets, each set of square brackets separated by a semi-colon and no space.\n",
    "        \"\"\"\n",
    "\n",
    "    return client.chat(model=\"llama3.2\", messages=[{\"role\": \"user\", \"content\": prompt}])['message']['content']\n"
   ]
  },
  {
   "cell_type": "markdown",
   "metadata": {},
   "source": [
    "## Ask question"
   ]
  },
  {
   "cell_type": "code",
   "execution_count": 40,
   "metadata": {},
   "outputs": [],
   "source": [
    "#question = \"I would like to know more about the impact of world war 1 on the economy of Germany.\"\n",
    "question = \"españa\""
   ]
  },
  {
   "cell_type": "code",
   "execution_count": 41,
   "metadata": {},
   "outputs": [
    {
     "name": "stderr",
     "output_type": "stream",
     "text": [
      "Batches: 100%|██████████| 1/1 [00:00<00:00, 35.86it/s]"
     ]
    },
    {
     "name": "stdout",
     "output_type": "stream",
     "text": [
      "Key Terms: ['[s]', '[d]']\n",
      "Relevant Key Terms: [s];[d]\n"
     ]
    },
    {
     "name": "stderr",
     "output_type": "stream",
     "text": [
      "\n"
     ]
    }
   ],
   "source": [
    "# Get relevant key terms\n",
    "key_terms = get_relevant_key_terms(question)\n",
    "\n",
    "key_terms_array = [\"[\" + term.replace('\"', '') + \"]\" for term in key_terms]\n",
    "print(\"Key Terms:\", key_terms_array)\n",
    "\n",
    "# Join the key terms array into a single string separated by semi-colons\n",
    "key_terms_string = \";\".join(key_terms_array)\n",
    "print(\"Relevant Key Terms:\", key_terms_string)"
   ]
  },
  {
   "cell_type": "code",
   "execution_count": 42,
   "metadata": {},
   "outputs": [
    {
     "name": "stdout",
     "output_type": "stream",
     "text": [
      "Answer: [d];[s]\n",
      "True\n"
     ]
    }
   ],
   "source": [
    "is_answer_valid = False\n",
    "while not is_answer_valid:\n",
    "    answer = ask_llama(question, key_terms_string)\n",
    "    print(\"Answer:\", answer)\n",
    "\n",
    "    answer_split = [term.strip() for term in answer.split(';')]\n",
    "    is_answer_valid = isinstance(answer, str) and len(answer_split) <= 2\n",
    "    is_answer_valid = is_answer_valid and all([term.strip() in key_terms_array for term in answer.split(';')])\n",
    "    print(is_answer_valid)"
   ]
  },
  {
   "cell_type": "code",
   "execution_count": null,
   "metadata": {},
   "outputs": [],
   "source": [
    "print(answer_split)\n",
    "output = \"\"\n",
    "for term in answer_split:\n",
    "    output += f\"subjectheading:{term}\"\n",
    "print(output)"
   ]
  },
  {
   "cell_type": "code",
   "execution_count": null,
   "metadata": {},
   "outputs": [],
   "source": []
  }
 ],
 "metadata": {
  "kernelspec": {
   "display_name": "rag",
   "language": "python",
   "name": "python3"
  },
  "language_info": {
   "codemirror_mode": {
    "name": "ipython",
    "version": 3
   },
   "file_extension": ".py",
   "mimetype": "text/x-python",
   "name": "python",
   "nbconvert_exporter": "python",
   "pygments_lexer": "ipython3",
   "version": "3.11.10"
  }
 },
 "nbformat": 4,
 "nbformat_minor": 2
}
