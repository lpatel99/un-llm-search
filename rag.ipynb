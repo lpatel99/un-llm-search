{
 "cells": [
  {
   "cell_type": "code",
   "execution_count": 1,
   "metadata": {},
   "outputs": [],
   "source": [
    "!pip install farm-haystack transformers ollama\n",
    "!pip install torch torchvision torchaudio --index-url https://download.pytorch.org/whl/cpu\n",
    "!pip install sentence-transformers\n",
    "!pip install \"farm-haystack[inference]\""
   ]
  },
  {
   "cell_type": "code",
   "execution_count": 5,
   "metadata": {},
   "outputs": [],
   "source": [
    "from haystack.document_stores import InMemoryDocumentStore\n",
    "from haystack.nodes import EmbeddingRetriever\n",
    "from haystack.schema import Document\n",
    "import ollama"
   ]
  },
  {
   "cell_type": "code",
   "execution_count": 2,
   "metadata": {},
   "outputs": [],
   "source": [
    "# Initialize the document store\n",
    "document_store = InMemoryDocumentStore(embedding_dim=384)\n",
    "\n",
    "# Load your 8000 key terms 1 per line from terms.csv\n",
    "key_terms = open('terms.csv').read().split('\\n')\n",
    "\n",
    "# Create documents from key terms\n",
    "documents = [Document(content=term) for term in key_terms]\n",
    "\n",
    "# Write documents to the store\n",
    "document_store.write_documents(documents)"
   ]
  },
  {
   "cell_type": "code",
   "execution_count": null,
   "metadata": {},
   "outputs": [
    {
     "name": "stderr",
     "output_type": "stream",
     "text": [
      "Batches: 100%|██████████| 227/227 [00:02<00:00, 77.35it/s]cs/s]\n",
      "Documents Processed: 10000 docs [00:02, 3333.78 docs/s]         \n"
     ]
    }
   ],
   "source": [
    "retriever = EmbeddingRetriever(\n",
    "    document_store=document_store,\n",
    "    embedding_model=\"sentence-transformers/all-MiniLM-L6-v2\",\n",
    "    use_gpu=False \n",
    ")\n",
    "\n",
    "# Embed the key terms and update the document store\n",
    "document_store.update_embeddings(retriever)"
   ]
  },
  {
   "cell_type": "code",
   "execution_count": 4,
   "metadata": {},
   "outputs": [
    {
     "name": "stderr",
     "output_type": "stream",
     "text": [
      "Batches: 100%|██████████| 1/1 [00:00<00:00, 151.88it/s]\n"
     ]
    },
    {
     "name": "stdout",
     "output_type": "stream",
     "text": [
      "Relevant Key Terms: ['IRAQI REFUGEES', 'PROTRACTED REFUGEE SITUATIONS', 'REFUGEES', 'WESTERN SAHARAN REFUGEES', 'PALESTINE REFUGEES', 'ALGERIAN REFUGEES', 'REFUGEE STATUS', 'SYRIANS', 'REFUGEE-RECEIVING COUNTRIES', 'AFRICAN REFUGEES', 'LEBANON SITUATION', 'UGANDAN REFUGEES', 'REFUGEE PROTECTION', 'CENTRAL AFRICAN REFUGEES', 'CENTRAL AMERICAN REFUGEES', 'REFUGEE ASSISTANCE', 'CHADIAN REFUGEES', 'MALIAN REFUGEES', 'CHILD REFUGEES', 'AFGHAN REFUGEES']\n"
     ]
    }
   ],
   "source": [
    "def get_relevant_key_terms(question, top_k=20):\n",
    "    results = retriever.retrieve(query=question, top_k=top_k)\n",
    "    return [doc.content for doc in results]\n",
    "\n",
    "# Example query\n",
    "question = \"What are the geopolitical impacts of the Syrian refugee crisis?\"\n",
    "relevant_key_terms = get_relevant_key_terms(question)\n",
    "print(\"Relevant Key Terms:\", relevant_key_terms)"
   ]
  },
  {
   "cell_type": "code",
   "execution_count": 19,
   "metadata": {},
   "outputs": [
    {
     "name": "stdout",
     "output_type": "stream",
     "text": [
      "{'model': 'llama3.2', 'created_at': '2024-11-25T17:14:56.176258Z', 'message': {'role': 'assistant', 'content': 'SYRIANS, REFUGEES, REFUGEE-RECEIVING COUNTRIES'}, 'done_reason': 'stop', 'done': True, 'total_duration': 1367920583, 'load_duration': 28161000, 'prompt_eval_count': 236, 'prompt_eval_duration': 796000000, 'eval_count': 19, 'eval_duration': 542000000}\n",
      "SYRIANS, REFUGEES, REFUGEE-RECEIVING COUNTRIES\n"
     ]
    }
   ],
   "source": [
    "# Initialize the Ollama client\n",
    "client = ollama.Client()\n",
    "\n",
    "prompt = f\"\"\"\n",
    "From the following list of key terms, please select the three that are most relevant to the question:\n",
    "Question: {question}\n",
    "Key Terms: {relevant_key_terms}\n",
    "Output only the selected key terms, separated by commas.\n",
    "\"\"\"\n",
    "\n",
    "# Send the message and get the response\n",
    "response = client.chat(model=\"llama3.2\", messages=[{\"role\": \"user\", \"content\": prompt}])\n",
    "\n",
    "# Print the response\n",
    "print(response)\n",
    "print(response['message']['content'])"
   ]
  },
  {
   "cell_type": "code",
   "execution_count": null,
   "metadata": {},
   "outputs": [],
   "source": []
  }
 ],
 "metadata": {
  "kernelspec": {
   "display_name": "rag",
   "language": "python",
   "name": "python3"
  },
  "language_info": {
   "codemirror_mode": {
    "name": "ipython",
    "version": 3
   },
   "file_extension": ".py",
   "mimetype": "text/x-python",
   "name": "python",
   "nbconvert_exporter": "python",
   "pygments_lexer": "ipython3",
   "version": "3.11.10"
  }
 },
 "nbformat": 4,
 "nbformat_minor": 2
}
