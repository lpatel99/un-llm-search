{
 "cells": [
  {
   "cell_type": "code",
   "execution_count": 1,
   "metadata": {},
   "outputs": [],
   "source": [
    "!pip install farm-haystack transformers ollama\n",
    "!pip install torch torchvision torchaudio --index-url https://download.pytorch.org/whl/cpu\n",
    "!pip install sentence-transformers\n",
    "!pip install \"farm-haystack[inference]\""
   ]
  },
  {
   "cell_type": "code",
   "execution_count": 1,
   "metadata": {},
   "outputs": [
    {
     "name": "stderr",
     "output_type": "stream",
     "text": [
      "/opt/homebrew/Caskroom/miniforge/base/envs/rag/lib/python3.11/site-packages/tqdm/auto.py:21: TqdmWarning: IProgress not found. Please update jupyter and ipywidgets. See https://ipywidgets.readthedocs.io/en/stable/user_install.html\n",
      "  from .autonotebook import tqdm as notebook_tqdm\n"
     ]
    }
   ],
   "source": [
    "from haystack.document_stores import InMemoryDocumentStore\n",
    "from haystack.nodes import EmbeddingRetriever\n",
    "from haystack.schema import Document\n",
    "import ollama"
   ]
  },
  {
   "cell_type": "code",
   "execution_count": 2,
   "metadata": {},
   "outputs": [],
   "source": [
    "document_store = InMemoryDocumentStore(embedding_dim=384)\n",
    "\n",
    "key_terms = open('terms.csv').read().split('\\n')\n",
    "\n",
    "documents = [Document(content=term) for term in key_terms]\n",
    "\n",
    "document_store.write_documents(documents)"
   ]
  },
  {
   "cell_type": "code",
   "execution_count": 3,
   "metadata": {},
   "outputs": [
    {
     "name": "stderr",
     "output_type": "stream",
     "text": [
      "Batches: 100%|██████████| 227/227 [00:03<00:00, 63.52it/s]cs/s]\n",
      "Documents Processed: 10000 docs [00:03, 2748.04 docs/s]         \n"
     ]
    }
   ],
   "source": [
    "retriever = EmbeddingRetriever(\n",
    "    document_store=document_store,\n",
    "    embedding_model=\"sentence-transformers/all-MiniLM-L6-v2\",\n",
    "    use_gpu=False \n",
    ")\n",
    "\n",
    "document_store.update_embeddings(retriever)"
   ]
  },
  {
   "cell_type": "code",
   "execution_count": null,
   "metadata": {},
   "outputs": [
    {
     "name": "stderr",
     "output_type": "stream",
     "text": [
      "Batches: 100%|██████████| 1/1 [00:00<00:00, 139.63it/s]"
     ]
    },
    {
     "name": "stdout",
     "output_type": "stream",
     "text": [
      "Relevant Key Terms: ['REINDEER', 'ANIMALS', 'WILDLIFE', 'ANTARCTICA', 'PETRODOLLARS', 'ARCTIC REGION', 'POLAR REGIONS', 'INSECTS', 'TURTLES', 'FAUNA', 'ARCTIC OCEAN', 'INUIT', 'DOGS', 'BIRDS', 'RUSSIANS', 'RABBITS', 'DRAUGHT ANIMALS', 'WILDLIFE CONSERVATION', 'WINTER SPORTS', 'BEETLES']\n"
     ]
    },
    {
     "name": "stderr",
     "output_type": "stream",
     "text": [
      "\n"
     ]
    }
   ],
   "source": [
    "def get_relevant_key_terms(question, top_k=20):\n",
    "    results = retriever.retrieve(query=question, top_k=top_k)\n",
    "    return [doc.content for doc in results]\n",
    "\n",
    "question = \"polar bears\"\n",
    "relevant_key_terms = get_relevant_key_terms(question)\n",
    "print(\"Relevant Key Terms:\", relevant_key_terms)"
   ]
  },
  {
   "cell_type": "code",
   "execution_count": 44,
   "metadata": {},
   "outputs": [],
   "source": [
    "client = ollama.Client()\n",
    "\n",
    "def ask_llama(question, relevant_key_terms):\n",
    "    prompt = f\"\"\"\n",
    "        From the following list of key terms, please select the three that are most relevant to the question:\n",
    "        question: {question}\n",
    "        Key Terms: {relevant_key_terms}\n",
    "        Output only the selected key terms, separated by commas, nothing else.\n",
    "        \"\"\"\n",
    "\n",
    "    return client.chat(model=\"llama3.2\", messages=[{\"role\": \"user\", \"content\": prompt}])['message']['content']\n"
   ]
  },
  {
   "cell_type": "code",
   "execution_count": 46,
   "metadata": {},
   "outputs": [
    {
     "name": "stdout",
     "output_type": "stream",
     "text": [
      "Answer: ARCTIC REGION, POLAR REGIONS, WILDLIFE\n",
      "True\n"
     ]
    }
   ],
   "source": [
    "answer = ask_llama(question, relevant_key_terms)\n",
    "print(\"Answer:\", answer)\n",
    "\n",
    "# check content is a list of 3 key terms\n",
    "is_answer_valid = isinstance(answer, str) and len(answer.split(',')) == 3\n",
    "is_answer_valid = is_answer_valid and all([term.strip() in relevant_key_terms for term in answer.split(',')])\n",
    "print(is_answer_valid)"
   ]
  },
  {
   "cell_type": "code",
   "execution_count": null,
   "metadata": {},
   "outputs": [],
   "source": []
  }
 ],
 "metadata": {
  "kernelspec": {
   "display_name": "rag",
   "language": "python",
   "name": "python3"
  },
  "language_info": {
   "codemirror_mode": {
    "name": "ipython",
    "version": 3
   },
   "file_extension": ".py",
   "mimetype": "text/x-python",
   "name": "python",
   "nbconvert_exporter": "python",
   "pygments_lexer": "ipython3",
   "version": "3.11.10"
  }
 },
 "nbformat": 4,
 "nbformat_minor": 2
}
