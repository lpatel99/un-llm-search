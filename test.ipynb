{
 "cells": [
  {
   "cell_type": "code",
   "execution_count": 12,
   "metadata": {},
   "outputs": [
    {
     "name": "stdout",
     "output_type": "stream",
     "text": [
      "Requirement already satisfied: requests in /Users/luke/opt/anaconda3/envs/un-llm/lib/python3.13/site-packages (2.32.3)\n",
      "Requirement already satisfied: charset-normalizer<4,>=2 in /Users/luke/opt/anaconda3/envs/un-llm/lib/python3.13/site-packages (from requests) (3.4.0)\n",
      "Requirement already satisfied: idna<4,>=2.5 in /Users/luke/opt/anaconda3/envs/un-llm/lib/python3.13/site-packages (from requests) (3.10)\n",
      "Requirement already satisfied: urllib3<3,>=1.21.1 in /Users/luke/opt/anaconda3/envs/un-llm/lib/python3.13/site-packages (from requests) (2.2.3)\n",
      "Requirement already satisfied: certifi>=2017.4.17 in /Users/luke/opt/anaconda3/envs/un-llm/lib/python3.13/site-packages (from requests) (2024.8.30)\n",
      "Requirement already satisfied: ollama in /Users/luke/opt/anaconda3/envs/un-llm/lib/python3.13/site-packages (0.3.3)\n",
      "Requirement already satisfied: httpx<0.28.0,>=0.27.0 in /Users/luke/opt/anaconda3/envs/un-llm/lib/python3.13/site-packages (from ollama) (0.27.2)\n",
      "Requirement already satisfied: anyio in /Users/luke/opt/anaconda3/envs/un-llm/lib/python3.13/site-packages (from httpx<0.28.0,>=0.27.0->ollama) (4.6.2)\n",
      "Requirement already satisfied: certifi in /Users/luke/opt/anaconda3/envs/un-llm/lib/python3.13/site-packages (from httpx<0.28.0,>=0.27.0->ollama) (2024.8.30)\n",
      "Requirement already satisfied: httpcore==1.* in /Users/luke/opt/anaconda3/envs/un-llm/lib/python3.13/site-packages (from httpx<0.28.0,>=0.27.0->ollama) (1.0.6)\n",
      "Requirement already satisfied: idna in /Users/luke/opt/anaconda3/envs/un-llm/lib/python3.13/site-packages (from httpx<0.28.0,>=0.27.0->ollama) (3.10)\n",
      "Requirement already satisfied: sniffio in /Users/luke/opt/anaconda3/envs/un-llm/lib/python3.13/site-packages (from httpx<0.28.0,>=0.27.0->ollama) (1.3.1)\n",
      "Requirement already satisfied: h11<0.15,>=0.13 in /Users/luke/opt/anaconda3/envs/un-llm/lib/python3.13/site-packages (from httpcore==1.*->httpx<0.28.0,>=0.27.0->ollama) (0.14.0)\n"
     ]
    }
   ],
   "source": [
    "!pip install requests\n",
    "!pip install ollama"
   ]
  },
  {
   "cell_type": "code",
   "execution_count": 9,
   "metadata": {},
   "outputs": [],
   "source": [
    "import ollama\n",
    "\n",
    "def send_llama(content):\n",
    "    response = ollama.chat(\n",
    "        model='llama3.2', \n",
    "        messages=[{ 'role': 'user', 'content': content}],\n",
    "        )\n",
    "    \n",
    "    return response"
   ]
  },
  {
   "cell_type": "code",
   "execution_count": 10,
   "metadata": {},
   "outputs": [
    {
     "name": "stdout",
     "output_type": "stream",
     "text": [
      "I was released to the public in 2023.\n"
     ]
    }
   ],
   "source": [
    "response = send_llama('How old are you?')\n",
    "print(response['message']['content'])"
   ]
  },
  {
   "cell_type": "code",
   "execution_count": null,
   "metadata": {},
   "outputs": [],
   "source": []
  }
 ],
 "metadata": {
  "kernelspec": {
   "display_name": "un-llm",
   "language": "python",
   "name": "python3"
  },
  "language_info": {
   "codemirror_mode": {
    "name": "ipython",
    "version": 3
   },
   "file_extension": ".py",
   "mimetype": "text/x-python",
   "name": "python",
   "nbconvert_exporter": "python",
   "pygments_lexer": "ipython3",
   "version": "3.13.0"
  }
 },
 "nbformat": 4,
 "nbformat_minor": 2
}
